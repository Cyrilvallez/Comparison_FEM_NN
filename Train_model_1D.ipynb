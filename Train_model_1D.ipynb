{
 "cells": [
  {
   "cell_type": "markdown",
   "id": "p4VMKRiX4ooS",
   "metadata": {
    "id": "p4VMKRiX4ooS"
   },
   "source": [
    "## Different imports and setup"
   ]
  },
  {
   "cell_type": "code",
   "execution_count": 14,
   "id": "5f283300-faaf-4190-9141-1a440609dec0",
   "metadata": {
    "executionInfo": {
     "elapsed": 240,
     "status": "ok",
     "timestamp": 1633456269224,
     "user": {
      "displayName": "cyril.vallez@orange.fr",
      "photoUrl": "https://lh3.googleusercontent.com/a/default-user=s64",
      "userId": "15783316175492714013"
     },
     "user_tz": -120
    },
    "id": "5f283300-faaf-4190-9141-1a440609dec0"
   },
   "outputs": [],
   "source": [
    "# Standard import\n",
    "import numpy as np\n",
    "import matplotlib.pyplot as plt\n",
    "%matplotlib widget"
   ]
  },
  {
   "cell_type": "code",
   "execution_count": 15,
   "id": "7939e302-5114-4976-ac2e-50cae4bf4a08",
   "metadata": {
    "executionInfo": {
     "elapsed": 2587,
     "status": "ok",
     "timestamp": 1633456279008,
     "user": {
      "displayName": "cyril.vallez@orange.fr",
      "photoUrl": "https://lh3.googleusercontent.com/a/default-user=s64",
      "userId": "15783316175492714013"
     },
     "user_tz": -120
    },
    "id": "7939e302-5114-4976-ac2e-50cae4bf4a08"
   },
   "outputs": [],
   "source": [
    "# Machine learning libraries\n",
    "from tensorflow import keras\n",
    "import tensorflow as tf\n",
    "from tensorflow.keras.optimizers import Adam\n",
    "from tensorflow.keras.losses import MeanSquaredError\n",
    "\n",
    "from tqdm.keras import TqdmCallback"
   ]
  },
  {
   "cell_type": "code",
   "execution_count": 16,
   "id": "U9ToDb51-Skx",
   "metadata": {
    "executionInfo": {
     "elapsed": 431,
     "status": "ok",
     "timestamp": 1633456280677,
     "user": {
      "displayName": "cyril.vallez@orange.fr",
      "photoUrl": "https://lh3.googleusercontent.com/a/default-user=s64",
      "userId": "15783316175492714013"
     },
     "user_tz": -120
    },
    "id": "U9ToDb51-Skx"
   },
   "outputs": [],
   "source": [
    "# Custom plots file and tensorflow models\n",
    "from Tools import Plot\n",
    "from Tools import Custom_models"
   ]
  },
  {
   "cell_type": "code",
   "execution_count": 17,
   "id": "EWhE1OE1MzDl",
   "metadata": {
    "colab": {
     "base_uri": "https://localhost:8080/"
    },
    "executionInfo": {
     "elapsed": 248,
     "status": "ok",
     "timestamp": 1633456282826,
     "user": {
      "displayName": "cyril.vallez@orange.fr",
      "photoUrl": "https://lh3.googleusercontent.com/a/default-user=s64",
      "userId": "15783316175492714013"
     },
     "user_tz": -120
    },
    "id": "EWhE1OE1MzDl",
    "outputId": "b8e50e40-8a3b-492e-d8be-9f443c7263e3"
   },
   "outputs": [
    {
     "name": "stdout",
     "output_type": "stream",
     "text": [
      "Not working on GPU !\n"
     ]
    }
   ],
   "source": [
    "device_name = tf.test.gpu_device_name()\n",
    "if device_name != '/device:GPU:0':\n",
    "  print('Not working on GPU !')\n",
    "else:\n",
    "  print('Found GPU at: {}'.format(device_name))"
   ]
  },
  {
   "cell_type": "code",
   "execution_count": 18,
   "id": "94c22c2b-8717-48d3-8582-7a47014b017c",
   "metadata": {},
   "outputs": [
    {
     "data": {
      "text/plain": [
       "[PhysicalDevice(name='/physical_device:CPU:0', device_type='CPU')]"
      ]
     },
     "execution_count": 18,
     "metadata": {},
     "output_type": "execute_result"
    }
   ],
   "source": [
    "tf.config.list_physical_devices()"
   ]
  },
  {
   "cell_type": "markdown",
   "id": "el0Ux8NC4twA",
   "metadata": {
    "id": "el0Ux8NC4twA"
   },
   "source": [
    "## Set the seeds and extract the training data"
   ]
  },
  {
   "cell_type": "code",
   "execution_count": 19,
   "id": "daacbda2-823b-4502-a53d-eb3c7de68de5",
   "metadata": {
    "executionInfo": {
     "elapsed": 245,
     "status": "ok",
     "timestamp": 1633456285059,
     "user": {
      "displayName": "cyril.vallez@orange.fr",
      "photoUrl": "https://lh3.googleusercontent.com/a/default-user=s64",
      "userId": "15783316175492714013"
     },
     "user_tz": -120
    },
    "id": "daacbda2-823b-4502-a53d-eb3c7de68de5"
   },
   "outputs": [],
   "source": [
    "# Set the seed for reproducibility\n",
    "seed = 6\n",
    "np.random.seed(seed)\n",
    "tf.random.set_seed(seed*2)"
   ]
  },
  {
   "cell_type": "code",
   "execution_count": 20,
   "id": "57335e9c-4213-4c66-9a5b-7757599897b8",
   "metadata": {
    "executionInfo": {
     "elapsed": 1077,
     "status": "ok",
     "timestamp": 1633456287743,
     "user": {
      "displayName": "cyril.vallez@orange.fr",
      "photoUrl": "https://lh3.googleusercontent.com/a/default-user=s64",
      "userId": "15783316175492714013"
     },
     "user_tz": -120
    },
    "id": "57335e9c-4213-4c66-9a5b-7757599897b8"
   },
   "outputs": [],
   "source": [
    "# Extract data\n",
    "data = np.loadtxt('Data/tanh.txt')\n",
    "features = data[:,0]\n",
    "labels = data[:,1]"
   ]
  },
  {
   "cell_type": "code",
   "execution_count": 21,
   "id": "72e04219-4b01-445c-a907-6fef368621ab",
   "metadata": {
    "executionInfo": {
     "elapsed": 265,
     "status": "ok",
     "timestamp": 1633456289887,
     "user": {
      "displayName": "cyril.vallez@orange.fr",
      "photoUrl": "https://lh3.googleusercontent.com/a/default-user=s64",
      "userId": "15783316175492714013"
     },
     "user_tz": -120
    },
    "id": "72e04219-4b01-445c-a907-6fef368621ab"
   },
   "outputs": [],
   "source": [
    "# Separate data into training and testing sets (keeping 10% in the test set)\n",
    "N = len(features)\n",
    "stop = round(0.9*N)\n",
    "perm = np.random.permutation(N)\n",
    "features_training = features[perm[0:stop]]\n",
    "features_testing = features[perm[stop:N]]\n",
    "labels_training = labels[perm[0:stop]]\n",
    "labels_testing = labels[perm[stop:N]]"
   ]
  },
  {
   "cell_type": "code",
   "execution_count": 22,
   "id": "RUMo8Dbs5CR1",
   "metadata": {
    "colab": {
     "base_uri": "https://localhost:8080/"
    },
    "executionInfo": {
     "elapsed": 5,
     "status": "ok",
     "timestamp": 1633456291017,
     "user": {
      "displayName": "cyril.vallez@orange.fr",
      "photoUrl": "https://lh3.googleusercontent.com/a/default-user=s64",
      "userId": "15783316175492714013"
     },
     "user_tz": -120
    },
    "id": "RUMo8Dbs5CR1",
    "outputId": "91089857-c150-4e3d-ade0-9c11119956b4"
   },
   "outputs": [
    {
     "name": "stdout",
     "output_type": "stream",
     "text": [
      "We will be training on 90000 examples !\n",
      "And testing on 10000 examples !\n"
     ]
    }
   ],
   "source": [
    "print(f'We will be training on {len(features_training)} examples !')\n",
    "print(f'And testing on {len(features_testing)} examples !')"
   ]
  },
  {
   "cell_type": "markdown",
   "id": "ORF3s_pm46dD",
   "metadata": {
    "id": "ORF3s_pm46dD"
   },
   "source": [
    "## Create and train the model"
   ]
  },
  {
   "cell_type": "code",
   "execution_count": 47,
   "id": "537c9a92-43d6-4076-9cd9-e387148d4d64",
   "metadata": {
    "executionInfo": {
     "elapsed": 315,
     "status": "ok",
     "timestamp": 1633456337250,
     "user": {
      "displayName": "cyril.vallez@orange.fr",
      "photoUrl": "https://lh3.googleusercontent.com/a/default-user=s64",
      "userId": "15783316175492714013"
     },
     "user_tz": -120
    },
    "id": "537c9a92-43d6-4076-9cd9-e387148d4d64"
   },
   "outputs": [],
   "source": [
    "# Create the model\n",
    "learning_rate = 5e-3\n",
    "N_node = 100\n",
    "N_out = 1\n",
    "name = 'model_1D'\n",
    "\n",
    "opt = Adam(learning_rate=learning_rate)\n",
    "\n",
    "model = Custom_models.Model_1D_1_layer(N_nodes=N_node, N_output=N_out, name=name)\n",
    "model.compile(loss=MeanSquaredError(), optimizer=opt)"
   ]
  },
  {
   "cell_type": "code",
   "execution_count": 48,
   "id": "6fd6500c-e3e8-42b8-a0c6-a518de95c6fe",
   "metadata": {
    "colab": {
     "base_uri": "https://localhost:8080/",
     "height": 49,
     "referenced_widgets": [
      "cf4e3a36c0cd44efa132f8ec468bbe51",
      "cefc1bb8dd4a45e2bcb0ad7e8e56e965",
      "f42a82d125f24f62953cf9e622b4f730",
      "acee3d81d0e14ab7b4d16b3a8e5ed58d",
      "70f8ea1d3ff64954b4afac87b88bc49d",
      "bf9d3ffaafbf4505b575ae4b953559c2",
      "f6ecc8eca440483d93be783ca587ecef",
      "e751b591a3db4eb49ef6ebb45aa90cd4",
      "89635850aba5489ea696977d4ab73bfd",
      "1e8946604ff144e1b0823c463f0499de",
      "c469519b4ad54a0cbfda6ca84cdc2073",
      "0573c93bcea94882ab90c0847eb251cc",
      "bc41dac305b64e9097de1eed73173d6a",
      "1400e0ec75ab4729975bc2cd8719ee9a",
      "68e8db10e1ec4913827f991c5c32b7b2",
      "d46d9d8d3ee64f1a87b03fb5172a2c76",
      "f434e7c03e724d198eb4669bb7ab7844",
      "2824ca33f6594bb1894594e9c710dd02",
      "5eb5d041559d4274a1114d2aa88d28e7",
      "10ee379ad6b443079bc54561b0bc2503",
      "0390127c9e7c414c8c6944a6ce678650",
      "f1ded692487d4c3d9afa984dca470853"
     ]
    },
    "executionInfo": {
     "elapsed": 982895,
     "status": "ok",
     "timestamp": 1633457321825,
     "user": {
      "displayName": "cyril.vallez@orange.fr",
      "photoUrl": "https://lh3.googleusercontent.com/a/default-user=s64",
      "userId": "15783316175492714013"
     },
     "user_tz": -120
    },
    "id": "6fd6500c-e3e8-42b8-a0c6-a518de95c6fe",
    "outputId": "db425797-5693-4055-9739-43b4faa10970"
   },
   "outputs": [
    {
     "data": {
      "application/vnd.jupyter.widget-view+json": {
       "model_id": "66fb46f2dd644ca3933c312020fc11d6",
       "version_major": 2,
       "version_minor": 0
      },
      "text/plain": [
       "0epoch [00:00, ?epoch/s]"
      ]
     },
     "metadata": {},
     "output_type": "display_data"
    },
    {
     "data": {
      "application/vnd.jupyter.widget-view+json": {
       "model_id": "",
       "version_major": 2,
       "version_minor": 0
      },
      "text/plain": [
       "0batch [00:00, ?batch/s]"
      ]
     },
     "metadata": {},
     "output_type": "display_data"
    }
   ],
   "source": [
    "# Train\n",
    "N_epochs = 200\n",
    "\n",
    "history = model.fit(features_training, labels_training, epochs=N_epochs, validation_split=0.1, verbose=0,\n",
    "                    shuffle=True, initial_epoch=0, callbacks=[TqdmCallback()])"
   ]
  },
  {
   "cell_type": "markdown",
   "id": "RoOhyaia5cHm",
   "metadata": {
    "id": "RoOhyaia5cHm"
   },
   "source": [
    "## Check the efficiency of training"
   ]
  },
  {
   "cell_type": "code",
   "execution_count": 49,
   "id": "598a24d5-1e57-40ba-b6e0-0d85b42dfcc8",
   "metadata": {
    "colab": {
     "base_uri": "https://localhost:8080/",
     "height": 397
    },
    "executionInfo": {
     "elapsed": 1005,
     "status": "ok",
     "timestamp": 1633459216561,
     "user": {
      "displayName": "cyril.vallez@orange.fr",
      "photoUrl": "https://lh3.googleusercontent.com/a/default-user=s64",
      "userId": "15783316175492714013"
     },
     "user_tz": -120
    },
    "id": "598a24d5-1e57-40ba-b6e0-0d85b42dfcc8",
    "outputId": "8206c3b5-f331-453c-de21-1a1b592f9315"
   },
   "outputs": [
    {
     "data": {
      "application/vnd.jupyter.widget-view+json": {
       "model_id": "21749227daa44bc991dad595729e6bdd",
       "version_major": 2,
       "version_minor": 0
      },
      "image/png": "[encoded data removed]",
      "text/plain": [
       "Canvas(toolbar=Toolbar(toolitems=[('Home', 'Reset original view', 'home', 'home'), ('Back', 'Back to previous …"
      ]
     },
     "metadata": {},
     "output_type": "display_data"
    }
   ],
   "source": [
    "filename = 'Figures/1D_2_layer_training_error.pdf'\n",
    "save = False\n",
    "\n",
    "plt.figure()\n",
    "plt.semilogy(history.epoch, np.array(history.history['loss']), label='Training')\n",
    "plt.semilogy(history.epoch, np.array(history.history['val_loss']), label = 'Validation')\n",
    "plt.xlabel('Epoch')\n",
    "plt.ylabel('Mean squared error')\n",
    "plt.xlim([0,200])\n",
    "plt.legend()\n",
    "plt.grid()\n",
    "plt.show()\n",
    "if (save):\n",
    "    plt.savefig(filename, bbox_inches='tight')"
   ]
  },
  {
   "cell_type": "markdown",
   "id": "o15PCOqOpK5u",
   "metadata": {
    "id": "o15PCOqOpK5u"
   },
   "source": [
    "## Save the model"
   ]
  },
  {
   "cell_type": "code",
   "execution_count": 12,
   "id": "hJDzAJngLBGq",
   "metadata": {
    "colab": {
     "base_uri": "https://localhost:8080/"
    },
    "executionInfo": {
     "elapsed": 1107,
     "status": "ok",
     "timestamp": 1633459225541,
     "user": {
      "displayName": "cyril.vallez@orange.fr",
      "photoUrl": "https://lh3.googleusercontent.com/a/default-user=s64",
      "userId": "15783316175492714013"
     },
     "user_tz": -120
    },
    "id": "hJDzAJngLBGq",
    "outputId": "2369010c-74f3-4417-ffce-329c0347ccbf"
   },
   "outputs": [
    {
     "name": "stdout",
     "output_type": "stream",
     "text": [
      "INFO:tensorflow:Assets written to: Saved_models/test/assets\n"
     ]
    },
    {
     "name": "stderr",
     "output_type": "stream",
     "text": [
      "2021-10-13 19:12:47.817387: W tensorflow/python/util/util.cc:348] Sets are not currently considered sequences, but this may change in the future, so consider avoiding using them.\n"
     ]
    }
   ],
   "source": [
    "# Save the model\n",
    "model_name = 'Saved_models/test'\n",
    "save_model = False\n",
    "\n",
    "if (save_model):\n",
    "    model.save(model_name)"
   ]
  },
  {
   "cell_type": "markdown",
   "id": "1ZnB-_o7ptJv",
   "metadata": {
    "id": "1ZnB-_o7ptJv"
   },
   "source": [
    "## Check the results on the testing set"
   ]
  },
  {
   "cell_type": "code",
   "execution_count": 15,
   "id": "BoToKjuvYoHp",
   "metadata": {
    "executionInfo": {
     "elapsed": 861,
     "status": "ok",
     "timestamp": 1633459229831,
     "user": {
      "displayName": "cyril.vallez@orange.fr",
      "photoUrl": "https://lh3.googleusercontent.com/a/default-user=s64",
      "userId": "15783316175492714013"
     },
     "user_tz": -120
    },
    "id": "BoToKjuvYoHp"
   },
   "outputs": [],
   "source": [
    "sorting = np.argsort(features_testing)\n",
    "features_testing = features_testing[sorting]\n",
    "labels_testing = labels_testing[sorting]\n",
    "\n",
    "prediction = model.predict(features_testing)\n",
    "prediction = np.ravel(prediction)\n"
   ]
  },
  {
   "cell_type": "code",
   "execution_count": 16,
   "id": "9gqJDp8bEe8a",
   "metadata": {
    "colab": {
     "base_uri": "https://localhost:8080/",
     "height": 397
    },
    "executionInfo": {
     "elapsed": 914,
     "status": "ok",
     "timestamp": 1633459232597,
     "user": {
      "displayName": "cyril.vallez@orange.fr",
      "photoUrl": "https://lh3.googleusercontent.com/a/default-user=s64",
      "userId": "15783316175492714013"
     },
     "user_tz": -120
    },
    "id": "9gqJDp8bEe8a",
    "outputId": "106ad162-3112-45cb-9dee-1a2433a932ea"
   },
   "outputs": [
    {
     "data": {
      "application/vnd.jupyter.widget-view+json": {
       "model_id": "a19a698492f045eaab1f3c52bbf01f3b",
       "version_major": 2,
       "version_minor": 0
      },
      "image/png": "[encoded data removed]",
      "text/plain": [
       "Canvas(toolbar=Toolbar(toolitems=[('Home', 'Reset original view', 'home', 'home'), ('Back', 'Back to previous …"
      ]
     },
     "metadata": {},
     "output_type": "display_data"
    }
   ],
   "source": [
    "plt.figure()\n",
    "plt.plot(features_testing, labels_testing, 'b-', label='true')\n",
    "plt.plot(features_testing, prediction, 'r--', label='Prediction')\n",
    "plt.xlabel('$x$')\n",
    "plt.ylabel('$y$')\n",
    "plt.legend()\n",
    "plt.grid()"
   ]
  },
  {
   "cell_type": "code",
   "execution_count": null,
   "id": "uS9OYXzNF2Wo",
   "metadata": {
    "id": "uS9OYXzNF2Wo"
   },
   "outputs": [],
   "source": []
  }
 ],
 "metadata": {
  "colab": {
   "collapsed_sections": [],
   "name": "Train_model_1D.ipynb",
   "provenance": []
  },
  "kernelspec": {
   "display_name": "Python 3 (ipykernel)",
   "language": "python",
   "name": "python3"
  },
  "language_info": {
   "codemirror_mode": {
    "name": "ipython",
    "version": 3
   },
   "file_extension": ".py",
   "mimetype": "text/x-python",
   "name": "python",
   "nbconvert_exporter": "python",
   "pygments_lexer": "ipython3",
   "version": "3.8.12"
  },
  "widgets": {
   "application/vnd.jupyter.widget-state+json": {
    "0390127c9e7c414c8c6944a6ce678650": {
     "model_module": "@jupyter-widgets/controls",
     "model_module_version": "1.5.0",
     "model_name": "DescriptionStyleModel",
     "state": {
      "_model_module": "@jupyter-widgets/controls",
      "_model_module_version": "1.5.0",
      "_model_name": "DescriptionStyleModel",
      "_view_count": null,
      "_view_module": "@jupyter-widgets/base",
      "_view_module_version": "1.2.0",
      "_view_name": "StyleView",
      "description_width": ""
     }
    },
    "0573c93bcea94882ab90c0847eb251cc": {
     "model_module": "@jupyter-widgets/controls",
     "model_module_version": "1.5.0",
     "model_name": "HBoxModel",
     "state": {
      "_dom_classes": [],
      "_model_module": "@jupyter-widgets/controls",
      "_model_module_version": "1.5.0",
      "_model_name": "HBoxModel",
      "_view_count": null,
      "_view_module": "@jupyter-widgets/controls",
      "_view_module_version": "1.5.0",
      "_view_name": "HBoxView",
      "box_style": "",
      "children": [
       "IPY_MODEL_1400e0ec75ab4729975bc2cd8719ee9a",
       "IPY_MODEL_68e8db10e1ec4913827f991c5c32b7b2",
       "IPY_MODEL_d46d9d8d3ee64f1a87b03fb5172a2c76"
      ],
      "layout": "IPY_MODEL_bc41dac305b64e9097de1eed73173d6a"
     }
    },
    "10ee379ad6b443079bc54561b0bc2503": {
     "model_module": "@jupyter-widgets/base",
     "model_module_version": "1.2.0",
     "model_name": "LayoutModel",
     "state": {
      "_model_module": "@jupyter-widgets/base",
      "_model_module_version": "1.2.0",
      "_model_name": "LayoutModel",
      "_view_count": null,
      "_view_module": "@jupyter-widgets/base",
      "_view_module_version": "1.2.0",
      "_view_name": "LayoutView",
      "align_content": null,
      "align_items": null,
      "align_self": null,
      "border": null,
      "bottom": null,
      "display": null,
      "flex": null,
      "flex_flow": null,
      "grid_area": null,
      "grid_auto_columns": null,
      "grid_auto_flow": null,
      "grid_auto_rows": null,
      "grid_column": null,
      "grid_gap": null,
      "grid_row": null,
      "grid_template_areas": null,
      "grid_template_columns": null,
      "grid_template_rows": null,
      "height": null,
      "justify_content": null,
      "justify_items": null,
      "left": null,
      "margin": null,
      "max_height": null,
      "max_width": null,
      "min_height": null,
      "min_width": null,
      "object_fit": null,
      "object_position": null,
      "order": null,
      "overflow": null,
      "overflow_x": null,
      "overflow_y": null,
      "padding": null,
      "right": null,
      "top": null,
      "visibility": null,
      "width": null
     }
    },
    "1400e0ec75ab4729975bc2cd8719ee9a": {
     "model_module": "@jupyter-widgets/controls",
     "model_module_version": "1.5.0",
     "model_name": "HTMLModel",
     "state": {
      "_dom_classes": [],
      "_model_module": "@jupyter-widgets/controls",
      "_model_module_version": "1.5.0",
      "_model_name": "HTMLModel",
      "_view_count": null,
      "_view_module": "@jupyter-widgets/controls",
      "_view_module_version": "1.5.0",
      "_view_name": "HTMLView",
      "description": "",
      "description_tooltip": null,
      "layout": "IPY_MODEL_2824ca33f6594bb1894594e9c710dd02",
      "placeholder": "​",
      "style": "IPY_MODEL_f434e7c03e724d198eb4669bb7ab7844",
      "value": " 99%"
     }
    },
    "1e8946604ff144e1b0823c463f0499de": {
     "model_module": "@jupyter-widgets/controls",
     "model_module_version": "1.5.0",
     "model_name": "DescriptionStyleModel",
     "state": {
      "_model_module": "@jupyter-widgets/controls",
      "_model_module_version": "1.5.0",
      "_model_name": "DescriptionStyleModel",
      "_view_count": null,
      "_view_module": "@jupyter-widgets/base",
      "_view_module_version": "1.2.0",
      "_view_name": "StyleView",
      "description_width": ""
     }
    },
    "2824ca33f6594bb1894594e9c710dd02": {
     "model_module": "@jupyter-widgets/base",
     "model_module_version": "1.2.0",
     "model_name": "LayoutModel",
     "state": {
      "_model_module": "@jupyter-widgets/base",
      "_model_module_version": "1.2.0",
      "_model_name": "LayoutModel",
      "_view_count": null,
      "_view_module": "@jupyter-widgets/base",
      "_view_module_version": "1.2.0",
      "_view_name": "LayoutView",
      "align_content": null,
      "align_items": null,
      "align_self": null,
      "border": null,
      "bottom": null,
      "display": null,
      "flex": null,
      "flex_flow": null,
      "grid_area": null,
      "grid_auto_columns": null,
      "grid_auto_flow": null,
      "grid_auto_rows": null,
      "grid_column": null,
      "grid_gap": null,
      "grid_row": null,
      "grid_template_areas": null,
      "grid_template_columns": null,
      "grid_template_rows": null,
      "height": null,
      "justify_content": null,
      "justify_items": null,
      "left": null,
      "margin": null,
      "max_height": null,
      "max_width": null,
      "min_height": null,
      "min_width": null,
      "object_fit": null,
      "object_position": null,
      "order": null,
      "overflow": null,
      "overflow_x": null,
      "overflow_y": null,
      "padding": null,
      "right": null,
      "top": null,
      "visibility": null,
      "width": null
     }
    },
    "5eb5d041559d4274a1114d2aa88d28e7": {
     "model_module": "@jupyter-widgets/controls",
     "model_module_version": "1.5.0",
     "model_name": "ProgressStyleModel",
     "state": {
      "_model_module": "@jupyter-widgets/controls",
      "_model_module_version": "1.5.0",
      "_model_name": "ProgressStyleModel",
      "_view_count": null,
      "_view_module": "@jupyter-widgets/base",
      "_view_module_version": "1.2.0",
      "_view_name": "StyleView",
      "bar_color": null,
      "description_width": ""
     }
    },
    "68e8db10e1ec4913827f991c5c32b7b2": {
     "model_module": "@jupyter-widgets/controls",
     "model_module_version": "1.5.0",
     "model_name": "FloatProgressModel",
     "state": {
      "_dom_classes": [],
      "_model_module": "@jupyter-widgets/controls",
      "_model_module_version": "1.5.0",
      "_model_name": "FloatProgressModel",
      "_view_count": null,
      "_view_module": "@jupyter-widgets/controls",
      "_view_module_version": "1.5.0",
      "_view_name": "ProgressView",
      "bar_style": "",
      "description": "",
      "description_tooltip": null,
      "layout": "IPY_MODEL_10ee379ad6b443079bc54561b0bc2503",
      "max": 2532,
      "min": 0,
      "orientation": "horizontal",
      "style": "IPY_MODEL_5eb5d041559d4274a1114d2aa88d28e7",
      "value": 2532
     }
    },
    "70f8ea1d3ff64954b4afac87b88bc49d": {
     "model_module": "@jupyter-widgets/controls",
     "model_module_version": "1.5.0",
     "model_name": "HTMLModel",
     "state": {
      "_dom_classes": [],
      "_model_module": "@jupyter-widgets/controls",
      "_model_module_version": "1.5.0",
      "_model_name": "HTMLModel",
      "_view_count": null,
      "_view_module": "@jupyter-widgets/controls",
      "_view_module_version": "1.5.0",
      "_view_name": "HTMLView",
      "description": "",
      "description_tooltip": null,
      "layout": "IPY_MODEL_c469519b4ad54a0cbfda6ca84cdc2073",
      "placeholder": "​",
      "style": "IPY_MODEL_1e8946604ff144e1b0823c463f0499de",
      "value": " 200/200 [15:22&lt;00:00,  4.25s/epoch, loss=0.000489, val_loss=0.000874]"
     }
    },
    "89635850aba5489ea696977d4ab73bfd": {
     "model_module": "@jupyter-widgets/base",
     "model_module_version": "1.2.0",
     "model_name": "LayoutModel",
     "state": {
      "_model_module": "@jupyter-widgets/base",
      "_model_module_version": "1.2.0",
      "_model_name": "LayoutModel",
      "_view_count": null,
      "_view_module": "@jupyter-widgets/base",
      "_view_module_version": "1.2.0",
      "_view_name": "LayoutView",
      "align_content": null,
      "align_items": null,
      "align_self": null,
      "border": null,
      "bottom": null,
      "display": null,
      "flex": null,
      "flex_flow": null,
      "grid_area": null,
      "grid_auto_columns": null,
      "grid_auto_flow": null,
      "grid_auto_rows": null,
      "grid_column": null,
      "grid_gap": null,
      "grid_row": null,
      "grid_template_areas": null,
      "grid_template_columns": null,
      "grid_template_rows": null,
      "height": null,
      "justify_content": null,
      "justify_items": null,
      "left": null,
      "margin": null,
      "max_height": null,
      "max_width": null,
      "min_height": null,
      "min_width": null,
      "object_fit": null,
      "object_position": null,
      "order": null,
      "overflow": null,
      "overflow_x": null,
      "overflow_y": null,
      "padding": null,
      "right": null,
      "top": null,
      "visibility": null,
      "width": null
     }
    },
    "acee3d81d0e14ab7b4d16b3a8e5ed58d": {
     "model_module": "@jupyter-widgets/controls",
     "model_module_version": "1.5.0",
     "model_name": "FloatProgressModel",
     "state": {
      "_dom_classes": [],
      "_model_module": "@jupyter-widgets/controls",
      "_model_module_version": "1.5.0",
      "_model_name": "FloatProgressModel",
      "_view_count": null,
      "_view_module": "@jupyter-widgets/controls",
      "_view_module_version": "1.5.0",
      "_view_name": "ProgressView",
      "bar_style": "success",
      "description": "",
      "description_tooltip": null,
      "layout": "IPY_MODEL_89635850aba5489ea696977d4ab73bfd",
      "max": 200,
      "min": 0,
      "orientation": "horizontal",
      "style": "IPY_MODEL_e751b591a3db4eb49ef6ebb45aa90cd4",
      "value": 200
     }
    },
    "bc41dac305b64e9097de1eed73173d6a": {
     "model_module": "@jupyter-widgets/base",
     "model_module_version": "1.2.0",
     "model_name": "LayoutModel",
     "state": {
      "_model_module": "@jupyter-widgets/base",
      "_model_module_version": "1.2.0",
      "_model_name": "LayoutModel",
      "_view_count": null,
      "_view_module": "@jupyter-widgets/base",
      "_view_module_version": "1.2.0",
      "_view_name": "LayoutView",
      "align_content": null,
      "align_items": null,
      "align_self": null,
      "border": null,
      "bottom": null,
      "display": null,
      "flex": null,
      "flex_flow": null,
      "grid_area": null,
      "grid_auto_columns": null,
      "grid_auto_flow": null,
      "grid_auto_rows": null,
      "grid_column": null,
      "grid_gap": null,
      "grid_row": null,
      "grid_template_areas": null,
      "grid_template_columns": null,
      "grid_template_rows": null,
      "height": null,
      "justify_content": null,
      "justify_items": null,
      "left": null,
      "margin": null,
      "max_height": null,
      "max_width": null,
      "min_height": null,
      "min_width": null,
      "object_fit": null,
      "object_position": null,
      "order": null,
      "overflow": null,
      "overflow_x": null,
      "overflow_y": null,
      "padding": null,
      "right": null,
      "top": null,
      "visibility": null,
      "width": null
     }
    },
    "bf9d3ffaafbf4505b575ae4b953559c2": {
     "model_module": "@jupyter-widgets/controls",
     "model_module_version": "1.5.0",
     "model_name": "DescriptionStyleModel",
     "state": {
      "_model_module": "@jupyter-widgets/controls",
      "_model_module_version": "1.5.0",
      "_model_name": "DescriptionStyleModel",
      "_view_count": null,
      "_view_module": "@jupyter-widgets/base",
      "_view_module_version": "1.2.0",
      "_view_name": "StyleView",
      "description_width": ""
     }
    },
    "c469519b4ad54a0cbfda6ca84cdc2073": {
     "model_module": "@jupyter-widgets/base",
     "model_module_version": "1.2.0",
     "model_name": "LayoutModel",
     "state": {
      "_model_module": "@jupyter-widgets/base",
      "_model_module_version": "1.2.0",
      "_model_name": "LayoutModel",
      "_view_count": null,
      "_view_module": "@jupyter-widgets/base",
      "_view_module_version": "1.2.0",
      "_view_name": "LayoutView",
      "align_content": null,
      "align_items": null,
      "align_self": null,
      "border": null,
      "bottom": null,
      "display": null,
      "flex": null,
      "flex_flow": null,
      "grid_area": null,
      "grid_auto_columns": null,
      "grid_auto_flow": null,
      "grid_auto_rows": null,
      "grid_column": null,
      "grid_gap": null,
      "grid_row": null,
      "grid_template_areas": null,
      "grid_template_columns": null,
      "grid_template_rows": null,
      "height": null,
      "justify_content": null,
      "justify_items": null,
      "left": null,
      "margin": null,
      "max_height": null,
      "max_width": null,
      "min_height": null,
      "min_width": null,
      "object_fit": null,
      "object_position": null,
      "order": null,
      "overflow": null,
      "overflow_x": null,
      "overflow_y": null,
      "padding": null,
      "right": null,
      "top": null,
      "visibility": null,
      "width": null
     }
    },
    "cefc1bb8dd4a45e2bcb0ad7e8e56e965": {
     "model_module": "@jupyter-widgets/base",
     "model_module_version": "1.2.0",
     "model_name": "LayoutModel",
     "state": {
      "_model_module": "@jupyter-widgets/base",
      "_model_module_version": "1.2.0",
      "_model_name": "LayoutModel",
      "_view_count": null,
      "_view_module": "@jupyter-widgets/base",
      "_view_module_version": "1.2.0",
      "_view_name": "LayoutView",
      "align_content": null,
      "align_items": null,
      "align_self": null,
      "border": null,
      "bottom": null,
      "display": null,
      "flex": null,
      "flex_flow": null,
      "grid_area": null,
      "grid_auto_columns": null,
      "grid_auto_flow": null,
      "grid_auto_rows": null,
      "grid_column": null,
      "grid_gap": null,
      "grid_row": null,
      "grid_template_areas": null,
      "grid_template_columns": null,
      "grid_template_rows": null,
      "height": null,
      "justify_content": null,
      "justify_items": null,
      "left": null,
      "margin": null,
      "max_height": null,
      "max_width": null,
      "min_height": null,
      "min_width": null,
      "object_fit": null,
      "object_position": null,
      "order": null,
      "overflow": null,
      "overflow_x": null,
      "overflow_y": null,
      "padding": null,
      "right": null,
      "top": null,
      "visibility": null,
      "width": null
     }
    },
    "cf4e3a36c0cd44efa132f8ec468bbe51": {
     "model_module": "@jupyter-widgets/controls",
     "model_module_version": "1.5.0",
     "model_name": "HBoxModel",
     "state": {
      "_dom_classes": [],
      "_model_module": "@jupyter-widgets/controls",
      "_model_module_version": "1.5.0",
      "_model_name": "HBoxModel",
      "_view_count": null,
      "_view_module": "@jupyter-widgets/controls",
      "_view_module_version": "1.5.0",
      "_view_name": "HBoxView",
      "box_style": "",
      "children": [
       "IPY_MODEL_f42a82d125f24f62953cf9e622b4f730",
       "IPY_MODEL_acee3d81d0e14ab7b4d16b3a8e5ed58d",
       "IPY_MODEL_70f8ea1d3ff64954b4afac87b88bc49d"
      ],
      "layout": "IPY_MODEL_cefc1bb8dd4a45e2bcb0ad7e8e56e965"
     }
    },
    "d46d9d8d3ee64f1a87b03fb5172a2c76": {
     "model_module": "@jupyter-widgets/controls",
     "model_module_version": "1.5.0",
     "model_name": "HTMLModel",
     "state": {
      "_dom_classes": [],
      "_model_module": "@jupyter-widgets/controls",
      "_model_module_version": "1.5.0",
      "_model_name": "HTMLModel",
      "_view_count": null,
      "_view_module": "@jupyter-widgets/controls",
      "_view_module_version": "1.5.0",
      "_view_name": "HTMLView",
      "description": "",
      "description_tooltip": null,
      "layout": "IPY_MODEL_f1ded692487d4c3d9afa984dca470853",
      "placeholder": "​",
      "style": "IPY_MODEL_0390127c9e7c414c8c6944a6ce678650",
      "value": " 2.51k/2.53k [00:03&lt;00:00, 662batch/s, loss=0.000491]"
     }
    },
    "e751b591a3db4eb49ef6ebb45aa90cd4": {
     "model_module": "@jupyter-widgets/controls",
     "model_module_version": "1.5.0",
     "model_name": "ProgressStyleModel",
     "state": {
      "_model_module": "@jupyter-widgets/controls",
      "_model_module_version": "1.5.0",
      "_model_name": "ProgressStyleModel",
      "_view_count": null,
      "_view_module": "@jupyter-widgets/base",
      "_view_module_version": "1.2.0",
      "_view_name": "StyleView",
      "bar_color": null,
      "description_width": ""
     }
    },
    "f1ded692487d4c3d9afa984dca470853": {
     "model_module": "@jupyter-widgets/base",
     "model_module_version": "1.2.0",
     "model_name": "LayoutModel",
     "state": {
      "_model_module": "@jupyter-widgets/base",
      "_model_module_version": "1.2.0",
      "_model_name": "LayoutModel",
      "_view_count": null,
      "_view_module": "@jupyter-widgets/base",
      "_view_module_version": "1.2.0",
      "_view_name": "LayoutView",
      "align_content": null,
      "align_items": null,
      "align_self": null,
      "border": null,
      "bottom": null,
      "display": null,
      "flex": null,
      "flex_flow": null,
      "grid_area": null,
      "grid_auto_columns": null,
      "grid_auto_flow": null,
      "grid_auto_rows": null,
      "grid_column": null,
      "grid_gap": null,
      "grid_row": null,
      "grid_template_areas": null,
      "grid_template_columns": null,
      "grid_template_rows": null,
      "height": null,
      "justify_content": null,
      "justify_items": null,
      "left": null,
      "margin": null,
      "max_height": null,
      "max_width": null,
      "min_height": null,
      "min_width": null,
      "object_fit": null,
      "object_position": null,
      "order": null,
      "overflow": null,
      "overflow_x": null,
      "overflow_y": null,
      "padding": null,
      "right": null,
      "top": null,
      "visibility": null,
      "width": null
     }
    },
    "f42a82d125f24f62953cf9e622b4f730": {
     "model_module": "@jupyter-widgets/controls",
     "model_module_version": "1.5.0",
     "model_name": "HTMLModel",
     "state": {
      "_dom_classes": [],
      "_model_module": "@jupyter-widgets/controls",
      "_model_module_version": "1.5.0",
      "_model_name": "HTMLModel",
      "_view_count": null,
      "_view_module": "@jupyter-widgets/controls",
      "_view_module_version": "1.5.0",
      "_view_name": "HTMLView",
      "description": "",
      "description_tooltip": null,
      "layout": "IPY_MODEL_f6ecc8eca440483d93be783ca587ecef",
      "placeholder": "​",
      "style": "IPY_MODEL_bf9d3ffaafbf4505b575ae4b953559c2",
      "value": "100%"
     }
    },
    "f434e7c03e724d198eb4669bb7ab7844": {
     "model_module": "@jupyter-widgets/controls",
     "model_module_version": "1.5.0",
     "model_name": "DescriptionStyleModel",
     "state": {
      "_model_module": "@jupyter-widgets/controls",
      "_model_module_version": "1.5.0",
      "_model_name": "DescriptionStyleModel",
      "_view_count": null,
      "_view_module": "@jupyter-widgets/base",
      "_view_module_version": "1.2.0",
      "_view_name": "StyleView",
      "description_width": ""
     }
    },
    "f6ecc8eca440483d93be783ca587ecef": {
     "model_module": "@jupyter-widgets/base",
     "model_module_version": "1.2.0",
     "model_name": "LayoutModel",
     "state": {
      "_model_module": "@jupyter-widgets/base",
      "_model_module_version": "1.2.0",
      "_model_name": "LayoutModel",
      "_view_count": null,
      "_view_module": "@jupyter-widgets/base",
      "_view_module_version": "1.2.0",
      "_view_name": "LayoutView",
      "align_content": null,
      "align_items": null,
      "align_self": null,
      "border": null,
      "bottom": null,
      "display": null,
      "flex": null,
      "flex_flow": null,
      "grid_area": null,
      "grid_auto_columns": null,
      "grid_auto_flow": null,
      "grid_auto_rows": null,
      "grid_column": null,
      "grid_gap": null,
      "grid_row": null,
      "grid_template_areas": null,
      "grid_template_columns": null,
      "grid_template_rows": null,
      "height": null,
      "justify_content": null,
      "justify_items": null,
      "left": null,
      "margin": null,
      "max_height": null,
      "max_width": null,
      "min_height": null,
      "min_width": null,
      "object_fit": null,
      "object_position": null,
      "order": null,
      "overflow": null,
      "overflow_x": null,
      "overflow_y": null,
      "padding": null,
      "right": null,
      "top": null,
      "visibility": null,
      "width": null
     }
    }
   }
  }
 },
 "nbformat": 4,
 "nbformat_minor": 5
}
