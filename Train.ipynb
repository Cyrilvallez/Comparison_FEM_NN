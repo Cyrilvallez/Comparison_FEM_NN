{
 "cells": [
  {
   "cell_type": "markdown",
   "id": "p4VMKRiX4ooS",
   "metadata": {
    "id": "p4VMKRiX4ooS"
   },
   "source": [
    "## Different imports and setup"
   ]
  },
  {
   "cell_type": "code",
   "execution_count": null,
   "id": "5f283300-faaf-4190-9141-1a440609dec0",
   "metadata": {
    "executionInfo": {
     "elapsed": 240,
     "status": "ok",
     "timestamp": 1633456269224,
     "user": {
      "displayName": "cyril.vallez@orange.fr",
      "photoUrl": "https://lh3.googleusercontent.com/a/default-user=s64",
      "userId": "15783316175492714013"
     },
     "user_tz": -120
    },
    "id": "5f283300-faaf-4190-9141-1a440609dec0"
   },
   "outputs": [],
   "source": [
    "# Standard import\n",
    "import numpy as np\n",
    "import matplotlib.pyplot as plt\n",
    "%matplotlib widget"
   ]
  },
  {
   "cell_type": "code",
   "execution_count": null,
   "id": "7939e302-5114-4976-ac2e-50cae4bf4a08",
   "metadata": {
    "executionInfo": {
     "elapsed": 2587,
     "status": "ok",
     "timestamp": 1633456279008,
     "user": {
      "displayName": "cyril.vallez@orange.fr",
      "photoUrl": "https://lh3.googleusercontent.com/a/default-user=s64",
      "userId": "15783316175492714013"
     },
     "user_tz": -120
    },
    "id": "7939e302-5114-4976-ac2e-50cae4bf4a08"
   },
   "outputs": [],
   "source": [
    "# Machine learning libraries\n",
    "from tensorflow import keras\n",
    "import tensorflow as tf\n",
    "from tensorflow.keras.optimizers import Adam, SGD, RMSprop, Nadam, Adadelta\n",
    "from tensorflow.keras.losses import MeanSquaredError\n",
    "\n",
    "from tqdm.keras import TqdmCallback\n",
    "from tqdm.notebook import tqdm"
   ]
  },
  {
   "cell_type": "code",
   "execution_count": null,
   "id": "U9ToDb51-Skx",
   "metadata": {
    "executionInfo": {
     "elapsed": 431,
     "status": "ok",
     "timestamp": 1633456280677,
     "user": {
      "displayName": "cyril.vallez@orange.fr",
      "photoUrl": "https://lh3.googleusercontent.com/a/default-user=s64",
      "userId": "15783316175492714013"
     },
     "user_tz": -120
    },
    "id": "U9ToDb51-Skx"
   },
   "outputs": [],
   "source": [
    "# Custom plots file and tensorflow models\n",
    "from Tools import Plot\n",
    "from Tools import Custom_models\n",
    "from Tools import Helpers"
   ]
  },
  {
   "cell_type": "code",
   "execution_count": null,
   "id": "EWhE1OE1MzDl",
   "metadata": {
    "colab": {
     "base_uri": "https://localhost:8080/"
    },
    "executionInfo": {
     "elapsed": 248,
     "status": "ok",
     "timestamp": 1633456282826,
     "user": {
      "displayName": "cyril.vallez@orange.fr",
      "photoUrl": "https://lh3.googleusercontent.com/a/default-user=s64",
      "userId": "15783316175492714013"
     },
     "user_tz": -120
    },
    "id": "EWhE1OE1MzDl",
    "outputId": "b8e50e40-8a3b-492e-d8be-9f443c7263e3"
   },
   "outputs": [],
   "source": [
    "device_name = tf.test.gpu_device_name()\n",
    "if device_name != '/device:GPU:0':\n",
    "  print('Not working on GPU !')\n",
    "else:\n",
    "  print('Found GPU at: {}'.format(device_name))"
   ]
  },
  {
   "cell_type": "code",
   "execution_count": null,
   "id": "94c22c2b-8717-48d3-8582-7a47014b017c",
   "metadata": {},
   "outputs": [],
   "source": [
    "tf.config.list_physical_devices()"
   ]
  },
  {
   "cell_type": "markdown",
   "id": "el0Ux8NC4twA",
   "metadata": {
    "id": "el0Ux8NC4twA"
   },
   "source": [
    "## Set the seeds and extract the training data"
   ]
  },
  {
   "cell_type": "code",
   "execution_count": null,
   "id": "daacbda2-823b-4502-a53d-eb3c7de68de5",
   "metadata": {
    "executionInfo": {
     "elapsed": 245,
     "status": "ok",
     "timestamp": 1633456285059,
     "user": {
      "displayName": "cyril.vallez@orange.fr",
      "photoUrl": "https://lh3.googleusercontent.com/a/default-user=s64",
      "userId": "15783316175492714013"
     },
     "user_tz": -120
    },
    "id": "daacbda2-823b-4502-a53d-eb3c7de68de5"
   },
   "outputs": [],
   "source": [
    "# Set the seed for reproducibility\n",
    "seed = 6\n",
    "np.random.seed(seed)\n",
    "tf.random.set_seed(seed*2)"
   ]
  },
  {
   "cell_type": "code",
   "execution_count": null,
   "id": "57335e9c-4213-4c66-9a5b-7757599897b8",
   "metadata": {
    "executionInfo": {
     "elapsed": 1077,
     "status": "ok",
     "timestamp": 1633456287743,
     "user": {
      "displayName": "cyril.vallez@orange.fr",
      "photoUrl": "https://lh3.googleusercontent.com/a/default-user=s64",
      "userId": "15783316175492714013"
     },
     "user_tz": -120
    },
    "id": "57335e9c-4213-4c66-9a5b-7757599897b8"
   },
   "outputs": [],
   "source": [
    "# Load the data\n",
    "features_train, labels_train, features_val, labels_val, features_test, labels_test = Helpers.Load_and_split_val(\n",
    "    'Data/tanh_10D.txt', D=10, seed=seed, ratio_test=0.1, ratio_val=0.1)"
   ]
  },
  {
   "cell_type": "code",
   "execution_count": null,
   "id": "RUMo8Dbs5CR1",
   "metadata": {
    "colab": {
     "base_uri": "https://localhost:8080/"
    },
    "executionInfo": {
     "elapsed": 5,
     "status": "ok",
     "timestamp": 1633456291017,
     "user": {
      "displayName": "cyril.vallez@orange.fr",
      "photoUrl": "https://lh3.googleusercontent.com/a/default-user=s64",
      "userId": "15783316175492714013"
     },
     "user_tz": -120
    },
    "id": "RUMo8Dbs5CR1",
    "outputId": "91089857-c150-4e3d-ade0-9c11119956b4"
   },
   "outputs": [],
   "source": [
    "print(f'We will be training on {len(features_train)} examples !')\n",
    "print(f'We will be validating on {len(features_val)} examples !')\n",
    "print(f'And testing on {len(features_test)} examples !')"
   ]
  },
  {
   "cell_type": "code",
   "execution_count": null,
   "id": "5ebee367-1fb7-43d1-8400-e57332e0ffa9",
   "metadata": {},
   "outputs": [],
   "source": [
    "features_train.shape"
   ]
  },
  {
   "cell_type": "markdown",
   "id": "ORF3s_pm46dD",
   "metadata": {
    "id": "ORF3s_pm46dD"
   },
   "source": [
    "## Create and train the model"
   ]
  },
  {
   "cell_type": "code",
   "execution_count": null,
   "id": "537c9a92-43d6-4076-9cd9-e387148d4d64",
   "metadata": {
    "executionInfo": {
     "elapsed": 315,
     "status": "ok",
     "timestamp": 1633456337250,
     "user": {
      "displayName": "cyril.vallez@orange.fr",
      "photoUrl": "https://lh3.googleusercontent.com/a/default-user=s64",
      "userId": "15783316175492714013"
     },
     "user_tz": -120
    },
    "id": "537c9a92-43d6-4076-9cd9-e387148d4d64"
   },
   "outputs": [],
   "source": [
    "# Create the model\n",
    "learning_rate = 5e-5\n",
    "batch = 32\n",
    "K = 100\n",
    "#Ks = [64, 1024]\n",
    "depth = 2\n",
    "K_out = 1\n",
    "N_epochs = 250\n",
    "\n",
    "N_average = 1\n",
    "\n",
    "histories = []"
   ]
  },
  {
   "cell_type": "code",
   "execution_count": null,
   "id": "6fd6500c-e3e8-42b8-a0c6-a518de95c6fe",
   "metadata": {
    "colab": {
     "base_uri": "https://localhost:8080/",
     "height": 49,
     "referenced_widgets": [
      "cf4e3a36c0cd44efa132f8ec468bbe51",
      "cefc1bb8dd4a45e2bcb0ad7e8e56e965",
      "f42a82d125f24f62953cf9e622b4f730",
      "acee3d81d0e14ab7b4d16b3a8e5ed58d",
      "70f8ea1d3ff64954b4afac87b88bc49d",
      "bf9d3ffaafbf4505b575ae4b953559c2",
      "f6ecc8eca440483d93be783ca587ecef",
      "e751b591a3db4eb49ef6ebb45aa90cd4",
      "89635850aba5489ea696977d4ab73bfd",
      "1e8946604ff144e1b0823c463f0499de",
      "c469519b4ad54a0cbfda6ca84cdc2073",
      "0573c93bcea94882ab90c0847eb251cc",
      "bc41dac305b64e9097de1eed73173d6a",
      "1400e0ec75ab4729975bc2cd8719ee9a",
      "68e8db10e1ec4913827f991c5c32b7b2",
      "d46d9d8d3ee64f1a87b03fb5172a2c76",
      "f434e7c03e724d198eb4669bb7ab7844",
      "2824ca33f6594bb1894594e9c710dd02",
      "5eb5d041559d4274a1114d2aa88d28e7",
      "10ee379ad6b443079bc54561b0bc2503",
      "0390127c9e7c414c8c6944a6ce678650",
      "f1ded692487d4c3d9afa984dca470853"
     ]
    },
    "executionInfo": {
     "elapsed": 982895,
     "status": "ok",
     "timestamp": 1633457321825,
     "user": {
      "displayName": "cyril.vallez@orange.fr",
      "photoUrl": "https://lh3.googleusercontent.com/a/default-user=s64",
      "userId": "15783316175492714013"
     },
     "user_tz": -120
    },
    "id": "6fd6500c-e3e8-42b8-a0c6-a518de95c6fe",
    "outputId": "db425797-5693-4055-9739-43b4faa10970"
   },
   "outputs": [],
   "source": [
    "# Train\n",
    "\n",
    "for i in tqdm(range(N_average)):\n",
    "        \n",
    "    save_name = f'Saved_models/10D/Model_sum/K_{K}-depth_{depth}'\n",
    "            \n",
    "    name = f'2_layers-batch_{batch}-lr_{learning_rate:.1e}'\n",
    "    opt = Adam(learning_rate=learning_rate)\n",
    "    \n",
    "    model = Custom_models.Model_depth(K1=K, K_output=K_out, depth=depth, name=name)\n",
    "    #model = Custom_models.Model_depth_Ks(Ks=Ks, K_output=K_out, name=name)\n",
    "    model.compile(loss=MeanSquaredError(), optimizer=opt)\n",
    "        \n",
    "    #logger = tf.keras.callbacks.CSVLogger(save_name + '.csv')\n",
    "    #saver = tf.keras.callbacks.ModelCheckpoint(save_name, save_best_only=True, mode='min')\n",
    "\n",
    "    history = model.fit(features_train, labels_train, validation_data=(features_val, labels_val),\n",
    "                        epochs=N_epochs, batch_size=batch, validation_batch_size=batch, verbose=0,\n",
    "                        shuffle=True, initial_epoch=0, callbacks=[TqdmCallback()])#, logger, saver])\n",
    "    \n",
    "    histories.append(history)"
   ]
  },
  {
   "cell_type": "markdown",
   "id": "RoOhyaia5cHm",
   "metadata": {
    "id": "RoOhyaia5cHm"
   },
   "source": [
    "## Check the results"
   ]
  },
  {
   "cell_type": "code",
   "execution_count": null,
   "id": "8c1edc21-1581-4683-9b71-87219c5a7e21",
   "metadata": {},
   "outputs": [],
   "source": [
    "MSE = []\n",
    "MAE = []\n",
    "MaAE = []\n",
    "\n",
    "for i in range(N_average):\n",
    "    model_name = f'Saved_models/1D/1_layer_study/K_{K}-iteration_{i}'\n",
    "    model = keras.models.load_model(model_name)\n",
    "    \n",
    "    MSE.append(Helpers.MSE(model, features_test, labels_test))\n",
    "    MAE.append(Helpers.MAE(model, features_test, labels_test))\n",
    "    MaAE.append(Helpers.MSE(model, features_test, labels_test))"
   ]
  },
  {
   "cell_type": "code",
   "execution_count": null,
   "id": "598a24d5-1e57-40ba-b6e0-0d85b42dfcc8",
   "metadata": {
    "colab": {
     "base_uri": "https://localhost:8080/",
     "height": 397
    },
    "executionInfo": {
     "elapsed": 1005,
     "status": "ok",
     "timestamp": 1633459216561,
     "user": {
      "displayName": "cyril.vallez@orange.fr",
      "photoUrl": "https://lh3.googleusercontent.com/a/default-user=s64",
      "userId": "15783316175492714013"
     },
     "user_tz": -120
    },
    "id": "598a24d5-1e57-40ba-b6e0-0d85b42dfcc8",
    "outputId": "8206c3b5-f331-453c-de21-1a1b592f9315"
   },
   "outputs": [],
   "source": [
    "with np.printoptions(formatter={'all':lambda x: f'{x:.4e}'}):\n",
    "    print(MSE)\n",
    "    print('\\n')\n",
    "    print(MAE)\n",
    "    print('\\n')\n",
    "    print(MaAE)"
   ]
  },
  {
   "cell_type": "code",
   "execution_count": null,
   "id": "bb08faa1-928b-40e0-b0a3-aed2ce77403f",
   "metadata": {
    "id": "o15PCOqOpK5u"
   },
   "outputs": [],
   "source": [
    "mean_mse = np.mean(MSE)\n",
    "mean_mae = np.mean(MAE)\n",
    "mean_maae = np.mean(MaAE)\n",
    "\n",
    "print(f'MSE : min : {min(MSE):.4e} // mean : {mean_mse:.4e} // max : {max(MSE):.4e} \\n')\n",
    "print(f'MAE : min : {min(MAE):.4e} // mean : {mean_mae:.4e} // max : {max(MAE):.4e} \\n')\n",
    "print(f'MaAE : min : {min(MaAE):.4e} // mean : {mean_maae:.4e} // max : {max(MaAE):.4e} \\n')"
   ]
  },
  {
   "cell_type": "code",
   "execution_count": null,
   "id": "hJDzAJngLBGq",
   "metadata": {
    "colab": {
     "base_uri": "https://localhost:8080/"
    },
    "executionInfo": {
     "elapsed": 1107,
     "status": "ok",
     "timestamp": 1633459225541,
     "user": {
      "displayName": "cyril.vallez@orange.fr",
      "photoUrl": "https://lh3.googleusercontent.com/a/default-user=s64",
      "userId": "15783316175492714013"
     },
     "user_tz": -120
    },
    "id": "hJDzAJngLBGq",
    "outputId": "2369010c-74f3-4417-ffce-329c0347ccbf"
   },
   "outputs": [],
   "source": [
    "print(np.argmin(MSE))\n",
    "print(np.argmin(MAE))\n",
    "print(np.argmin(MaAE))"
   ]
  },
  {
   "cell_type": "markdown",
   "id": "9e741e25-12e6-4bb5-a157-66f8eeaa8e24",
   "metadata": {},
   "source": [
    "## Check the efficiency of training"
   ]
  },
  {
   "cell_type": "code",
   "execution_count": null,
   "id": "9230f187-ae4e-4244-93fa-b5515c724082",
   "metadata": {},
   "outputs": [],
   "source": [
    "filename = 'Figures/10D/k_50.pdf'\n",
    "save = False\n",
    "\n",
    "history = histories[0]\n",
    "\n",
    "plt.figure()\n",
    "plt.semilogy(history.epoch, np.array(history.history['loss']), label='Training')\n",
    "plt.semilogy(history.epoch, np.array(history.history['val_loss']), label = 'Validation')\n",
    "plt.xlabel('Epoch')\n",
    "plt.ylabel('Mean squared error')\n",
    "plt.legend()\n",
    "plt.grid()\n",
    "if (save):\n",
    "    plt.savefig(filename, bbox_inches='tight')\n",
    "plt.show()"
   ]
  },
  {
   "cell_type": "markdown",
   "id": "6add16f8-6665-462a-b5ed-2bd5c444df58",
   "metadata": {},
   "source": [
    "## Check on a grid"
   ]
  },
  {
   "cell_type": "code",
   "execution_count": null,
   "id": "36ce6b41-9545-4b4d-bd11-e6f4cad3fb47",
   "metadata": {},
   "outputs": [],
   "source": [
    "x = np.linspace(0, 1, 50000)\n",
    "coord = np.zeros((len(x), 10))\n",
    "for i in range(10):\n",
    "    coord[:,i] = x\n",
    "    \n",
    "center = np.zeros(10)\n",
    "r = np.sqrt(10)/2       \n",
    "k = 50\n",
    "\n",
    "rad = np.linalg.norm(coord - center, ord=2, axis=1)\n",
    "pred = model.predict(coord).ravel()\n",
    "\n",
    "y_true = 1/2*(1 + np.tanh(-k*(rad - r)))"
   ]
  },
  {
   "cell_type": "code",
   "execution_count": null,
   "id": "82e687eb-832e-4740-999c-f7634e38843e",
   "metadata": {},
   "outputs": [],
   "source": [
    "save = False\n",
    "name = 'Figures/10D/2_layers/approximation_other.pdf'\n",
    "\n",
    "plt.figure()\n",
    "plt.plot(rad, y_true, 'b-', label='True')\n",
    "plt.plot(rad, pred, 'r--', label='Prediction on the\\nline $x_1 = ... = x_{10}$')\n",
    "plt.xlabel('$r$')\n",
    "plt.ylabel('$f(r)$')\n",
    "plt.legend()\n",
    "plt.grid()\n",
    "if (save):\n",
    "    plt.savefig(name, bbox_inches='tight')\n",
    "plt.show()"
   ]
  },
  {
   "cell_type": "code",
   "execution_count": null,
   "id": "310c6844-dadd-47ff-beb3-dbdbcf2df126",
   "metadata": {},
   "outputs": [],
   "source": []
  }
 ],
 "metadata": {
  "colab": {
   "collapsed_sections": [],
   "name": "Train_model_1D.ipynb",
   "provenance": []
  },
  "kernelspec": {
   "display_name": "Python 3 (ipykernel)",
   "language": "python",
   "name": "python3"
  },
  "language_info": {
   "codemirror_mode": {
    "name": "ipython",
    "version": 3
   },
   "file_extension": ".py",
   "mimetype": "text/x-python",
   "name": "python",
   "nbconvert_exporter": "python",
   "pygments_lexer": "ipython3",
   "version": "3.8.12"
  },
  "widgets": {
   "application/vnd.jupyter.widget-state+json": {
    "0390127c9e7c414c8c6944a6ce678650": {
     "model_module": "@jupyter-widgets/controls",
     "model_module_version": "1.5.0",
     "model_name": "DescriptionStyleModel",
     "state": {
      "_model_module": "@jupyter-widgets/controls",
      "_model_module_version": "1.5.0",
      "_model_name": "DescriptionStyleModel",
      "_view_count": null,
      "_view_module": "@jupyter-widgets/base",
      "_view_module_version": "1.2.0",
      "_view_name": "StyleView",
      "description_width": ""
     }
    },
    "0573c93bcea94882ab90c0847eb251cc": {
     "model_module": "@jupyter-widgets/controls",
     "model_module_version": "1.5.0",
     "model_name": "HBoxModel",
     "state": {
      "_dom_classes": [],
      "_model_module": "@jupyter-widgets/controls",
      "_model_module_version": "1.5.0",
      "_model_name": "HBoxModel",
      "_view_count": null,
      "_view_module": "@jupyter-widgets/controls",
      "_view_module_version": "1.5.0",
      "_view_name": "HBoxView",
      "box_style": "",
      "children": [
       "IPY_MODEL_1400e0ec75ab4729975bc2cd8719ee9a",
       "IPY_MODEL_68e8db10e1ec4913827f991c5c32b7b2",
       "IPY_MODEL_d46d9d8d3ee64f1a87b03fb5172a2c76"
      ],
      "layout": "IPY_MODEL_bc41dac305b64e9097de1eed73173d6a"
     }
    },
    "10ee379ad6b443079bc54561b0bc2503": {
     "model_module": "@jupyter-widgets/base",
     "model_module_version": "1.2.0",
     "model_name": "LayoutModel",
     "state": {
      "_model_module": "@jupyter-widgets/base",
      "_model_module_version": "1.2.0",
      "_model_name": "LayoutModel",
      "_view_count": null,
      "_view_module": "@jupyter-widgets/base",
      "_view_module_version": "1.2.0",
      "_view_name": "LayoutView",
      "align_content": null,
      "align_items": null,
      "align_self": null,
      "border": null,
      "bottom": null,
      "display": null,
      "flex": null,
      "flex_flow": null,
      "grid_area": null,
      "grid_auto_columns": null,
      "grid_auto_flow": null,
      "grid_auto_rows": null,
      "grid_column": null,
      "grid_gap": null,
      "grid_row": null,
      "grid_template_areas": null,
      "grid_template_columns": null,
      "grid_template_rows": null,
      "height": null,
      "justify_content": null,
      "justify_items": null,
      "left": null,
      "margin": null,
      "max_height": null,
      "max_width": null,
      "min_height": null,
      "min_width": null,
      "object_fit": null,
      "object_position": null,
      "order": null,
      "overflow": null,
      "overflow_x": null,
      "overflow_y": null,
      "padding": null,
      "right": null,
      "top": null,
      "visibility": null,
      "width": null
     }
    },
    "1400e0ec75ab4729975bc2cd8719ee9a": {
     "model_module": "@jupyter-widgets/controls",
     "model_module_version": "1.5.0",
     "model_name": "HTMLModel",
     "state": {
      "_dom_classes": [],
      "_model_module": "@jupyter-widgets/controls",
      "_model_module_version": "1.5.0",
      "_model_name": "HTMLModel",
      "_view_count": null,
      "_view_module": "@jupyter-widgets/controls",
      "_view_module_version": "1.5.0",
      "_view_name": "HTMLView",
      "description": "",
      "description_tooltip": null,
      "layout": "IPY_MODEL_2824ca33f6594bb1894594e9c710dd02",
      "placeholder": "​",
      "style": "IPY_MODEL_f434e7c03e724d198eb4669bb7ab7844",
      "value": " 99%"
     }
    },
    "1e8946604ff144e1b0823c463f0499de": {
     "model_module": "@jupyter-widgets/controls",
     "model_module_version": "1.5.0",
     "model_name": "DescriptionStyleModel",
     "state": {
      "_model_module": "@jupyter-widgets/controls",
      "_model_module_version": "1.5.0",
      "_model_name": "DescriptionStyleModel",
      "_view_count": null,
      "_view_module": "@jupyter-widgets/base",
      "_view_module_version": "1.2.0",
      "_view_name": "StyleView",
      "description_width": ""
     }
    },
    "2824ca33f6594bb1894594e9c710dd02": {
     "model_module": "@jupyter-widgets/base",
     "model_module_version": "1.2.0",
     "model_name": "LayoutModel",
     "state": {
      "_model_module": "@jupyter-widgets/base",
      "_model_module_version": "1.2.0",
      "_model_name": "LayoutModel",
      "_view_count": null,
      "_view_module": "@jupyter-widgets/base",
      "_view_module_version": "1.2.0",
      "_view_name": "LayoutView",
      "align_content": null,
      "align_items": null,
      "align_self": null,
      "border": null,
      "bottom": null,
      "display": null,
      "flex": null,
      "flex_flow": null,
      "grid_area": null,
      "grid_auto_columns": null,
      "grid_auto_flow": null,
      "grid_auto_rows": null,
      "grid_column": null,
      "grid_gap": null,
      "grid_row": null,
      "grid_template_areas": null,
      "grid_template_columns": null,
      "grid_template_rows": null,
      "height": null,
      "justify_content": null,
      "justify_items": null,
      "left": null,
      "margin": null,
      "max_height": null,
      "max_width": null,
      "min_height": null,
      "min_width": null,
      "object_fit": null,
      "object_position": null,
      "order": null,
      "overflow": null,
      "overflow_x": null,
      "overflow_y": null,
      "padding": null,
      "right": null,
      "top": null,
      "visibility": null,
      "width": null
     }
    },
    "5eb5d041559d4274a1114d2aa88d28e7": {
     "model_module": "@jupyter-widgets/controls",
     "model_module_version": "1.5.0",
     "model_name": "ProgressStyleModel",
     "state": {
      "_model_module": "@jupyter-widgets/controls",
      "_model_module_version": "1.5.0",
      "_model_name": "ProgressStyleModel",
      "_view_count": null,
      "_view_module": "@jupyter-widgets/base",
      "_view_module_version": "1.2.0",
      "_view_name": "StyleView",
      "bar_color": null,
      "description_width": ""
     }
    },
    "68e8db10e1ec4913827f991c5c32b7b2": {
     "model_module": "@jupyter-widgets/controls",
     "model_module_version": "1.5.0",
     "model_name": "FloatProgressModel",
     "state": {
      "_dom_classes": [],
      "_model_module": "@jupyter-widgets/controls",
      "_model_module_version": "1.5.0",
      "_model_name": "FloatProgressModel",
      "_view_count": null,
      "_view_module": "@jupyter-widgets/controls",
      "_view_module_version": "1.5.0",
      "_view_name": "ProgressView",
      "bar_style": "",
      "description": "",
      "description_tooltip": null,
      "layout": "IPY_MODEL_10ee379ad6b443079bc54561b0bc2503",
      "max": 2532,
      "min": 0,
      "orientation": "horizontal",
      "style": "IPY_MODEL_5eb5d041559d4274a1114d2aa88d28e7",
      "value": 2532
     }
    },
    "70f8ea1d3ff64954b4afac87b88bc49d": {
     "model_module": "@jupyter-widgets/controls",
     "model_module_version": "1.5.0",
     "model_name": "HTMLModel",
     "state": {
      "_dom_classes": [],
      "_model_module": "@jupyter-widgets/controls",
      "_model_module_version": "1.5.0",
      "_model_name": "HTMLModel",
      "_view_count": null,
      "_view_module": "@jupyter-widgets/controls",
      "_view_module_version": "1.5.0",
      "_view_name": "HTMLView",
      "description": "",
      "description_tooltip": null,
      "layout": "IPY_MODEL_c469519b4ad54a0cbfda6ca84cdc2073",
      "placeholder": "​",
      "style": "IPY_MODEL_1e8946604ff144e1b0823c463f0499de",
      "value": " 200/200 [15:22&lt;00:00,  4.25s/epoch, loss=0.000489, val_loss=0.000874]"
     }
    },
    "89635850aba5489ea696977d4ab73bfd": {
     "model_module": "@jupyter-widgets/base",
     "model_module_version": "1.2.0",
     "model_name": "LayoutModel",
     "state": {
      "_model_module": "@jupyter-widgets/base",
      "_model_module_version": "1.2.0",
      "_model_name": "LayoutModel",
      "_view_count": null,
      "_view_module": "@jupyter-widgets/base",
      "_view_module_version": "1.2.0",
      "_view_name": "LayoutView",
      "align_content": null,
      "align_items": null,
      "align_self": null,
      "border": null,
      "bottom": null,
      "display": null,
      "flex": null,
      "flex_flow": null,
      "grid_area": null,
      "grid_auto_columns": null,
      "grid_auto_flow": null,
      "grid_auto_rows": null,
      "grid_column": null,
      "grid_gap": null,
      "grid_row": null,
      "grid_template_areas": null,
      "grid_template_columns": null,
      "grid_template_rows": null,
      "height": null,
      "justify_content": null,
      "justify_items": null,
      "left": null,
      "margin": null,
      "max_height": null,
      "max_width": null,
      "min_height": null,
      "min_width": null,
      "object_fit": null,
      "object_position": null,
      "order": null,
      "overflow": null,
      "overflow_x": null,
      "overflow_y": null,
      "padding": null,
      "right": null,
      "top": null,
      "visibility": null,
      "width": null
     }
    },
    "acee3d81d0e14ab7b4d16b3a8e5ed58d": {
     "model_module": "@jupyter-widgets/controls",
     "model_module_version": "1.5.0",
     "model_name": "FloatProgressModel",
     "state": {
      "_dom_classes": [],
      "_model_module": "@jupyter-widgets/controls",
      "_model_module_version": "1.5.0",
      "_model_name": "FloatProgressModel",
      "_view_count": null,
      "_view_module": "@jupyter-widgets/controls",
      "_view_module_version": "1.5.0",
      "_view_name": "ProgressView",
      "bar_style": "success",
      "description": "",
      "description_tooltip": null,
      "layout": "IPY_MODEL_89635850aba5489ea696977d4ab73bfd",
      "max": 200,
      "min": 0,
      "orientation": "horizontal",
      "style": "IPY_MODEL_e751b591a3db4eb49ef6ebb45aa90cd4",
      "value": 200
     }
    },
    "bc41dac305b64e9097de1eed73173d6a": {
     "model_module": "@jupyter-widgets/base",
     "model_module_version": "1.2.0",
     "model_name": "LayoutModel",
     "state": {
      "_model_module": "@jupyter-widgets/base",
      "_model_module_version": "1.2.0",
      "_model_name": "LayoutModel",
      "_view_count": null,
      "_view_module": "@jupyter-widgets/base",
      "_view_module_version": "1.2.0",
      "_view_name": "LayoutView",
      "align_content": null,
      "align_items": null,
      "align_self": null,
      "border": null,
      "bottom": null,
      "display": null,
      "flex": null,
      "flex_flow": null,
      "grid_area": null,
      "grid_auto_columns": null,
      "grid_auto_flow": null,
      "grid_auto_rows": null,
      "grid_column": null,
      "grid_gap": null,
      "grid_row": null,
      "grid_template_areas": null,
      "grid_template_columns": null,
      "grid_template_rows": null,
      "height": null,
      "justify_content": null,
      "justify_items": null,
      "left": null,
      "margin": null,
      "max_height": null,
      "max_width": null,
      "min_height": null,
      "min_width": null,
      "object_fit": null,
      "object_position": null,
      "order": null,
      "overflow": null,
      "overflow_x": null,
      "overflow_y": null,
      "padding": null,
      "right": null,
      "top": null,
      "visibility": null,
      "width": null
     }
    },
    "bf9d3ffaafbf4505b575ae4b953559c2": {
     "model_module": "@jupyter-widgets/controls",
     "model_module_version": "1.5.0",
     "model_name": "DescriptionStyleModel",
     "state": {
      "_model_module": "@jupyter-widgets/controls",
      "_model_module_version": "1.5.0",
      "_model_name": "DescriptionStyleModel",
      "_view_count": null,
      "_view_module": "@jupyter-widgets/base",
      "_view_module_version": "1.2.0",
      "_view_name": "StyleView",
      "description_width": ""
     }
    },
    "c469519b4ad54a0cbfda6ca84cdc2073": {
     "model_module": "@jupyter-widgets/base",
     "model_module_version": "1.2.0",
     "model_name": "LayoutModel",
     "state": {
      "_model_module": "@jupyter-widgets/base",
      "_model_module_version": "1.2.0",
      "_model_name": "LayoutModel",
      "_view_count": null,
      "_view_module": "@jupyter-widgets/base",
      "_view_module_version": "1.2.0",
      "_view_name": "LayoutView",
      "align_content": null,
      "align_items": null,
      "align_self": null,
      "border": null,
      "bottom": null,
      "display": null,
      "flex": null,
      "flex_flow": null,
      "grid_area": null,
      "grid_auto_columns": null,
      "grid_auto_flow": null,
      "grid_auto_rows": null,
      "grid_column": null,
      "grid_gap": null,
      "grid_row": null,
      "grid_template_areas": null,
      "grid_template_columns": null,
      "grid_template_rows": null,
      "height": null,
      "justify_content": null,
      "justify_items": null,
      "left": null,
      "margin": null,
      "max_height": null,
      "max_width": null,
      "min_height": null,
      "min_width": null,
      "object_fit": null,
      "object_position": null,
      "order": null,
      "overflow": null,
      "overflow_x": null,
      "overflow_y": null,
      "padding": null,
      "right": null,
      "top": null,
      "visibility": null,
      "width": null
     }
    },
    "cefc1bb8dd4a45e2bcb0ad7e8e56e965": {
     "model_module": "@jupyter-widgets/base",
     "model_module_version": "1.2.0",
     "model_name": "LayoutModel",
     "state": {
      "_model_module": "@jupyter-widgets/base",
      "_model_module_version": "1.2.0",
      "_model_name": "LayoutModel",
      "_view_count": null,
      "_view_module": "@jupyter-widgets/base",
      "_view_module_version": "1.2.0",
      "_view_name": "LayoutView",
      "align_content": null,
      "align_items": null,
      "align_self": null,
      "border": null,
      "bottom": null,
      "display": null,
      "flex": null,
      "flex_flow": null,
      "grid_area": null,
      "grid_auto_columns": null,
      "grid_auto_flow": null,
      "grid_auto_rows": null,
      "grid_column": null,
      "grid_gap": null,
      "grid_row": null,
      "grid_template_areas": null,
      "grid_template_columns": null,
      "grid_template_rows": null,
      "height": null,
      "justify_content": null,
      "justify_items": null,
      "left": null,
      "margin": null,
      "max_height": null,
      "max_width": null,
      "min_height": null,
      "min_width": null,
      "object_fit": null,
      "object_position": null,
      "order": null,
      "overflow": null,
      "overflow_x": null,
      "overflow_y": null,
      "padding": null,
      "right": null,
      "top": null,
      "visibility": null,
      "width": null
     }
    },
    "cf4e3a36c0cd44efa132f8ec468bbe51": {
     "model_module": "@jupyter-widgets/controls",
     "model_module_version": "1.5.0",
     "model_name": "HBoxModel",
     "state": {
      "_dom_classes": [],
      "_model_module": "@jupyter-widgets/controls",
      "_model_module_version": "1.5.0",
      "_model_name": "HBoxModel",
      "_view_count": null,
      "_view_module": "@jupyter-widgets/controls",
      "_view_module_version": "1.5.0",
      "_view_name": "HBoxView",
      "box_style": "",
      "children": [
       "IPY_MODEL_f42a82d125f24f62953cf9e622b4f730",
       "IPY_MODEL_acee3d81d0e14ab7b4d16b3a8e5ed58d",
       "IPY_MODEL_70f8ea1d3ff64954b4afac87b88bc49d"
      ],
      "layout": "IPY_MODEL_cefc1bb8dd4a45e2bcb0ad7e8e56e965"
     }
    },
    "d46d9d8d3ee64f1a87b03fb5172a2c76": {
     "model_module": "@jupyter-widgets/controls",
     "model_module_version": "1.5.0",
     "model_name": "HTMLModel",
     "state": {
      "_dom_classes": [],
      "_model_module": "@jupyter-widgets/controls",
      "_model_module_version": "1.5.0",
      "_model_name": "HTMLModel",
      "_view_count": null,
      "_view_module": "@jupyter-widgets/controls",
      "_view_module_version": "1.5.0",
      "_view_name": "HTMLView",
      "description": "",
      "description_tooltip": null,
      "layout": "IPY_MODEL_f1ded692487d4c3d9afa984dca470853",
      "placeholder": "​",
      "style": "IPY_MODEL_0390127c9e7c414c8c6944a6ce678650",
      "value": " 2.51k/2.53k [00:03&lt;00:00, 662batch/s, loss=0.000491]"
     }
    },
    "e751b591a3db4eb49ef6ebb45aa90cd4": {
     "model_module": "@jupyter-widgets/controls",
     "model_module_version": "1.5.0",
     "model_name": "ProgressStyleModel",
     "state": {
      "_model_module": "@jupyter-widgets/controls",
      "_model_module_version": "1.5.0",
      "_model_name": "ProgressStyleModel",
      "_view_count": null,
      "_view_module": "@jupyter-widgets/base",
      "_view_module_version": "1.2.0",
      "_view_name": "StyleView",
      "bar_color": null,
      "description_width": ""
     }
    },
    "f1ded692487d4c3d9afa984dca470853": {
     "model_module": "@jupyter-widgets/base",
     "model_module_version": "1.2.0",
     "model_name": "LayoutModel",
     "state": {
      "_model_module": "@jupyter-widgets/base",
      "_model_module_version": "1.2.0",
      "_model_name": "LayoutModel",
      "_view_count": null,
      "_view_module": "@jupyter-widgets/base",
      "_view_module_version": "1.2.0",
      "_view_name": "LayoutView",
      "align_content": null,
      "align_items": null,
      "align_self": null,
      "border": null,
      "bottom": null,
      "display": null,
      "flex": null,
      "flex_flow": null,
      "grid_area": null,
      "grid_auto_columns": null,
      "grid_auto_flow": null,
      "grid_auto_rows": null,
      "grid_column": null,
      "grid_gap": null,
      "grid_row": null,
      "grid_template_areas": null,
      "grid_template_columns": null,
      "grid_template_rows": null,
      "height": null,
      "justify_content": null,
      "justify_items": null,
      "left": null,
      "margin": null,
      "max_height": null,
      "max_width": null,
      "min_height": null,
      "min_width": null,
      "object_fit": null,
      "object_position": null,
      "order": null,
      "overflow": null,
      "overflow_x": null,
      "overflow_y": null,
      "padding": null,
      "right": null,
      "top": null,
      "visibility": null,
      "width": null
     }
    },
    "f42a82d125f24f62953cf9e622b4f730": {
     "model_module": "@jupyter-widgets/controls",
     "model_module_version": "1.5.0",
     "model_name": "HTMLModel",
     "state": {
      "_dom_classes": [],
      "_model_module": "@jupyter-widgets/controls",
      "_model_module_version": "1.5.0",
      "_model_name": "HTMLModel",
      "_view_count": null,
      "_view_module": "@jupyter-widgets/controls",
      "_view_module_version": "1.5.0",
      "_view_name": "HTMLView",
      "description": "",
      "description_tooltip": null,
      "layout": "IPY_MODEL_f6ecc8eca440483d93be783ca587ecef",
      "placeholder": "​",
      "style": "IPY_MODEL_bf9d3ffaafbf4505b575ae4b953559c2",
      "value": "100%"
     }
    },
    "f434e7c03e724d198eb4669bb7ab7844": {
     "model_module": "@jupyter-widgets/controls",
     "model_module_version": "1.5.0",
     "model_name": "DescriptionStyleModel",
     "state": {
      "_model_module": "@jupyter-widgets/controls",
      "_model_module_version": "1.5.0",
      "_model_name": "DescriptionStyleModel",
      "_view_count": null,
      "_view_module": "@jupyter-widgets/base",
      "_view_module_version": "1.2.0",
      "_view_name": "StyleView",
      "description_width": ""
     }
    },
    "f6ecc8eca440483d93be783ca587ecef": {
     "model_module": "@jupyter-widgets/base",
     "model_module_version": "1.2.0",
     "model_name": "LayoutModel",
     "state": {
      "_model_module": "@jupyter-widgets/base",
      "_model_module_version": "1.2.0",
      "_model_name": "LayoutModel",
      "_view_count": null,
      "_view_module": "@jupyter-widgets/base",
      "_view_module_version": "1.2.0",
      "_view_name": "LayoutView",
      "align_content": null,
      "align_items": null,
      "align_self": null,
      "border": null,
      "bottom": null,
      "display": null,
      "flex": null,
      "flex_flow": null,
      "grid_area": null,
      "grid_auto_columns": null,
      "grid_auto_flow": null,
      "grid_auto_rows": null,
      "grid_column": null,
      "grid_gap": null,
      "grid_row": null,
      "grid_template_areas": null,
      "grid_template_columns": null,
      "grid_template_rows": null,
      "height": null,
      "justify_content": null,
      "justify_items": null,
      "left": null,
      "margin": null,
      "max_height": null,
      "max_width": null,
      "min_height": null,
      "min_width": null,
      "object_fit": null,
      "object_position": null,
      "order": null,
      "overflow": null,
      "overflow_x": null,
      "overflow_y": null,
      "padding": null,
      "right": null,
      "top": null,
      "visibility": null,
      "width": null
     }
    }
   }
  }
 },
 "nbformat": 4,
 "nbformat_minor": 5
}
