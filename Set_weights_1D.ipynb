{
 "cells": [
  {
   "cell_type": "markdown",
   "id": "20cd927e-f47d-4dc1-a996-c9a55414a8db",
   "metadata": {},
   "source": [
    "## Different imports and setup"
   ]
  },
  {
   "cell_type": "code",
   "execution_count": 14,
   "id": "3df341a7-ecaa-4f15-b519-0cf0bc18502f",
   "metadata": {},
   "outputs": [],
   "source": [
    "# Standard import\n",
    "import numpy as np\n",
    "from numpy.random import default_rng\n",
    "import matplotlib.pyplot as plt\n",
    "%matplotlib widget"
   ]
  },
  {
   "cell_type": "code",
   "execution_count": 15,
   "id": "ffe6a666-f797-45c3-ad7b-4765c66aad39",
   "metadata": {},
   "outputs": [],
   "source": [
    "# Machine learning libraries\n",
    "from tensorflow import keras\n",
    "import tensorflow as tf\n",
    "from tensorflow.keras.optimizers import Adam\n",
    "from tensorflow.keras.losses import MeanSquaredError\n",
    "\n",
    "from tqdm.keras import TqdmCallback"
   ]
  },
  {
   "cell_type": "code",
   "execution_count": 16,
   "id": "f98ec635-8382-463a-b00a-923a674199d6",
   "metadata": {},
   "outputs": [],
   "source": [
    "# Custom plots file and tensorflow models\n",
    "from Tools import Plot\n",
    "from Tools import Custom_models\n",
    "from Tools import Helpers"
   ]
  },
  {
   "cell_type": "markdown",
   "id": "b00aaa99-a4d3-4587-92ba-16e8d12597be",
   "metadata": {},
   "source": [
    "## Define the grid and the real solution"
   ]
  },
  {
   "cell_type": "code",
   "execution_count": 17,
   "id": "ba65232b-674b-4218-96c6-187bdff86a5f",
   "metadata": {},
   "outputs": [],
   "source": [
    "N = 100\n",
    "h = 1/(N-1)\n",
    "\n",
    "x = np.linspace(0,1,N)\n",
    "u = 1/2*(1 + np.tanh(50*(x-1/3))) - 1/2*(1 + np.tanh(50*(x-2/3)))  # Function we want to approximate"
   ]
  },
  {
   "cell_type": "markdown",
   "id": "cee148e7-612f-4a24-8eb8-b491fb8c166a",
   "metadata": {},
   "source": [
    "## Create exact finite element weights "
   ]
  },
  {
   "cell_type": "code",
   "execution_count": 18,
   "id": "c4bd988f-a99e-4f71-b6c1-c23486038325",
   "metadata": {},
   "outputs": [],
   "source": [
    "core1 = np.ones(N)\n",
    "bias1 = -x"
   ]
  },
  {
   "cell_type": "code",
   "execution_count": 19,
   "id": "f422968d-8a81-47a0-bd0b-be5d05ea64c9",
   "metadata": {},
   "outputs": [],
   "source": [
    "core2 = np.zeros(N)\n",
    "for i in range(2,N-2):\n",
    "    core2[i] = 1/h*(u[i-1] - 2*u[i] + u[i+1])\n",
    "core2[0] = u[1]/h\n",
    "core2[1] = 1/h*(-2*u[1] + u[2])\n",
    "core2[N-2] = 1/h*(u[N-3] - 2*u[N-2])\n",
    "core2[N-1] = u[N-2]/h\n",
    "\n",
    "bias2 = np.array([0])"
   ]
  },
  {
   "cell_type": "code",
   "execution_count": 20,
   "id": "98ab53d9-2abc-4699-b937-073be216e780",
   "metadata": {},
   "outputs": [],
   "source": [
    "core1 = np.expand_dims(core1, axis=0)\n",
    "core2 = np.expand_dims(core2, axis=1)"
   ]
  },
  {
   "cell_type": "code",
   "execution_count": 21,
   "id": "5867f4d3-d783-46f8-98a1-4409cd48d730",
   "metadata": {},
   "outputs": [],
   "source": [
    "weights1_exact = [core1, bias1]\n",
    "weights2_exact = [core2, bias2]"
   ]
  },
  {
   "cell_type": "markdown",
   "id": "d082f018-bad9-480b-a98d-3b5aa4e0e543",
   "metadata": {},
   "source": [
    "## Set the seeds and extract the training data"
   ]
  },
  {
   "cell_type": "code",
   "execution_count": 22,
   "id": "baf54dec-b8ca-4abf-9aa6-56c1627a7217",
   "metadata": {},
   "outputs": [],
   "source": [
    "# Set the seed for reproducibility\n",
    "seed = 6\n",
    "np.random.seed(seed)\n",
    "tf.random.set_seed(seed*2)"
   ]
  },
  {
   "cell_type": "code",
   "execution_count": 23,
   "id": "513e84cd-4b44-4588-bf59-efc4817d6572",
   "metadata": {},
   "outputs": [],
   "source": [
    "# Load the data\n",
    "features_training, labels_training, features_testing, labels_testing = Helpers.Load_and_split_1D('Data/tanh_k50.txt',\n",
    "                                                                                                 seed, ratio=0.9)"
   ]
  },
  {
   "cell_type": "markdown",
   "id": "255467a9-0d96-4a14-a590-d41a4c78b14d",
   "metadata": {},
   "source": [
    "## Slightly modify the exact weights with Gaussian noise"
   ]
  },
  {
   "cell_type": "code",
   "execution_count": null,
   "id": "b611c353-39df-4fff-9e96-2d012a11120d",
   "metadata": {},
   "outputs": [],
   "source": [
    "rng = default_rng(seed=seed)\n",
    "std = 0.00001\n",
    "core1_rand = core1 + std*rng.standard_normal(core1.shape)\n",
    "bias1_rand = bias1 + std*rng.standard_normal(bias1.shape)\n",
    "core2_rand = core2 + std*rng.standard_normal(core2.shape)\n",
    "bias2_rand = bias2 + std*rng.standard_normal(bias2.shape)"
   ]
  },
  {
   "cell_type": "code",
   "execution_count": null,
   "id": "5f00f958-930e-4a34-a7b1-84c524afb801",
   "metadata": {},
   "outputs": [],
   "source": [
    "weights1_rand = [core1_rand, bias1_rand]\n",
    "weights2_rand = [core2_rand, bias2_rand]"
   ]
  },
  {
   "cell_type": "markdown",
   "id": "a4c198f6-48b8-4495-a73c-c4a7a7cb47c7",
   "metadata": {},
   "source": [
    "## Create a model with the modified weights "
   ]
  },
  {
   "cell_type": "code",
   "execution_count": 41,
   "id": "6ab379a8-625c-419f-a5d9-ae8a39db01ce",
   "metadata": {},
   "outputs": [
    {
     "name": "stdout",
     "output_type": "stream",
     "text": [
      "Model: \"Exact_FEM_weights_N_100_tanh_k50\"\n",
      "_________________________________________________________________\n",
      "Layer (type)                 Output Shape              Param #   \n",
      "=================================================================\n",
      "dense1 (Dense)               multiple                  200       \n",
      "_________________________________________________________________\n",
      "dense2 (Dense)               multiple                  101       \n",
      "=================================================================\n",
      "Total params: 301\n",
      "Trainable params: 301\n",
      "Non-trainable params: 0\n",
      "_________________________________________________________________\n"
     ]
    }
   ],
   "source": [
    "model = Custom_models.Model_1D_1_layer(K1=N, K_output=1, name='Exact_FEM_weights_N_100_tanh_k50')\n",
    "model.build((None, 1))\n",
    "model.get_layer(name='dense1').set_weights(weights1_exact)\n",
    "model.get_layer(name='dense2').set_weights(weights2_exact)\n",
    "model.summary()"
   ]
  },
  {
   "cell_type": "markdown",
   "id": "919d9bf2-8c8d-4083-8589-60b583cf3fbd",
   "metadata": {},
   "source": [
    "## Train the model"
   ]
  },
  {
   "cell_type": "code",
   "execution_count": 42,
   "id": "a88d34de-ffcc-45b5-8cd9-e9a5893d4a39",
   "metadata": {},
   "outputs": [],
   "source": [
    "learning_rate = 1e-2\n",
    "opt = Adam(learning_rate=learning_rate)\n",
    "\n",
    "model.compile(loss=MeanSquaredError(), optimizer=opt)"
   ]
  },
  {
   "cell_type": "code",
   "execution_count": 43,
   "id": "d4a98f4e-e07b-42cb-a009-8154fa3d35d5",
   "metadata": {},
   "outputs": [
    {
     "data": {
      "application/vnd.jupyter.widget-view+json": {
       "model_id": "35b39f2c4a324d4ca69fc49194647696",
       "version_major": 2,
       "version_minor": 0
      },
      "text/plain": [
       "0epoch [00:00, ?epoch/s]"
      ]
     },
     "metadata": {},
     "output_type": "display_data"
    },
    {
     "data": {
      "application/vnd.jupyter.widget-view+json": {
       "model_id": "",
       "version_major": 2,
       "version_minor": 0
      },
      "text/plain": [
       "0batch [00:00, ?batch/s]"
      ]
     },
     "metadata": {},
     "output_type": "display_data"
    }
   ],
   "source": [
    "# Train\n",
    "N_epochs = 20\n",
    "\n",
    "history = model.fit(features_training, labels_training, epochs=N_epochs, validation_split=0.1, verbose=0,\n",
    "                    shuffle=True, initial_epoch=0, callbacks=[TqdmCallback()])"
   ]
  },
  {
   "cell_type": "markdown",
   "id": "d587c785-1ba3-4814-acf2-f7dbd6b4d55d",
   "metadata": {},
   "source": [
    "## Check the efficiency of training"
   ]
  },
  {
   "cell_type": "code",
   "execution_count": 44,
   "id": "ee3bda25-f2b6-4498-81f4-58f1a26b4a80",
   "metadata": {},
   "outputs": [
    {
     "data": {
      "application/vnd.jupyter.widget-view+json": {
       "model_id": "0c810852d2f7410ba1e4c923e564f149",
       "version_major": 2,
       "version_minor": 0
      },
      "image/png": "[encoded data removed]",
      "text/plain": [
       "Canvas(toolbar=Toolbar(toolitems=[('Home', 'Reset original view', 'home', 'home'), ('Back', 'Back to previous …"
      ]
     },
     "metadata": {},
     "output_type": "display_data"
    }
   ],
   "source": [
    "filename = 'Figures/Exact_FEM_N_100_training_error.pdf'\n",
    "save = False\n",
    "\n",
    "plt.figure()\n",
    "plt.semilogy(history.epoch, np.array(history.history['loss']), label='Training')\n",
    "plt.semilogy(history.epoch, np.array(history.history['val_loss']), label = 'Validation')\n",
    "plt.xlabel('Epoch')\n",
    "plt.ylabel('Mean squared error')\n",
    "plt.xlim([0,200])\n",
    "plt.legend()\n",
    "plt.grid()\n",
    "plt.show()\n",
    "if (save):\n",
    "    plt.savefig(filename, bbox_inches='tight')"
   ]
  },
  {
   "cell_type": "markdown",
   "id": "add8ed39-2a44-4ed3-b7e4-c2b6df6abe27",
   "metadata": {},
   "source": [
    "## Save the model"
   ]
  },
  {
   "cell_type": "code",
   "execution_count": 45,
   "id": "db291a55-e79c-4374-bc3e-2bb9632695b2",
   "metadata": {},
   "outputs": [
    {
     "name": "stdout",
     "output_type": "stream",
     "text": [
      "INFO:tensorflow:Assets written to: Saved_models/Exact_FEM_N_100_trained_20/assets\n"
     ]
    }
   ],
   "source": [
    "# Save the model\n",
    "model_name = 'Saved_models/Exact_FEM_N_100_trained_20'\n",
    "save_model = False\n",
    "\n",
    "if (save_model):\n",
    "    model.save(model_name)"
   ]
  },
  {
   "cell_type": "markdown",
   "id": "7e83ba70-7b23-42fe-b1ca-29db0d53c869",
   "metadata": {},
   "source": [
    "## Check the results on the testing set"
   ]
  },
  {
   "cell_type": "code",
   "execution_count": 46,
   "id": "49adef46-b0a1-4354-98ab-dfc7d5703f02",
   "metadata": {},
   "outputs": [],
   "source": [
    "sorting = np.argsort(features_testing)\n",
    "features_testing = features_testing[sorting]\n",
    "labels_testing = labels_testing[sorting]\n",
    "\n",
    "prediction = model.predict(features_testing)\n",
    "prediction = np.ravel(prediction)"
   ]
  },
  {
   "cell_type": "code",
   "execution_count": 47,
   "id": "b44c3995-833b-4364-9efc-e9c2ab1ce0ba",
   "metadata": {},
   "outputs": [
    {
     "data": {
      "application/vnd.jupyter.widget-view+json": {
       "model_id": "de59403d2ca34165817f4d849b4e9b90",
       "version_major": 2,
       "version_minor": 0
      },
      "image/png": "[encoded data removed]",
      "text/plain": [
       "Canvas(toolbar=Toolbar(toolitems=[('Home', 'Reset original view', 'home', 'home'), ('Back', 'Back to previous …"
      ]
     },
     "metadata": {},
     "output_type": "display_data"
    }
   ],
   "source": [
    "plt.figure()\n",
    "plt.plot(features_testing, labels_testing, 'b-', label='true')\n",
    "plt.plot(features_testing, prediction, 'r--', label='Prediction')\n",
    "plt.xlabel('$x$')\n",
    "plt.ylabel('$y$')\n",
    "plt.legend()\n",
    "plt.grid()"
   ]
  },
  {
   "cell_type": "markdown",
   "id": "fae7cbbf-c8a3-4e4c-b1d4-13856abdfd8f",
   "metadata": {},
   "source": [
    "## Retrieve the weights and assess the difference with the exact weights"
   ]
  },
  {
   "cell_type": "code",
   "execution_count": null,
   "id": "4557e627-4a89-4e8f-b224-9ed7653751a2",
   "metadata": {},
   "outputs": [],
   "source": [
    "weights1_after_train = model.get_layer(name='dense1').get_weights()\n",
    "weights2_after_train = model.get_layer(name='dense2').get_weights()"
   ]
  },
  {
   "cell_type": "code",
   "execution_count": null,
   "id": "8431f942-fea1-4196-a8fc-7d505b2a15ec",
   "metadata": {},
   "outputs": [],
   "source": [
    "core1_after_train = weights1_after_train[0]\n",
    "bias1_after_train = weights1_after_train[1]\n",
    "core2_after_train = weights2_after_train[0]\n",
    "bias2_after_train = weights2_after_train[1]"
   ]
  },
  {
   "cell_type": "code",
   "execution_count": null,
   "id": "cbdfbd31-e026-46cf-9710-a988394f6076",
   "metadata": {},
   "outputs": [],
   "source": [
    "bias1 - bias1_after_train"
   ]
  },
  {
   "cell_type": "code",
   "execution_count": null,
   "id": "3b6ed228-deeb-4540-a45e-887746bdbeeb",
   "metadata": {},
   "outputs": [],
   "source": []
  }
 ],
 "metadata": {
  "kernelspec": {
   "display_name": "Python 3 (ipykernel)",
   "language": "python",
   "name": "python3"
  },
  "language_info": {
   "codemirror_mode": {
    "name": "ipython",
    "version": 3
   },
   "file_extension": ".py",
   "mimetype": "text/x-python",
   "name": "python",
   "nbconvert_exporter": "python",
   "pygments_lexer": "ipython3",
   "version": "3.8.12"
  }
 },
 "nbformat": 4,
 "nbformat_minor": 5
}
