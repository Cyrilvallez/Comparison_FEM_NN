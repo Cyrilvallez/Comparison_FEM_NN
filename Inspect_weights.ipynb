{
 "cells": [
  {
   "cell_type": "markdown",
   "metadata": {
    "id": "POdM4uJ1qzWZ"
   },
   "source": [
    "## Different imports and setup"
   ]
  },
  {
   "cell_type": "code",
   "execution_count": 1,
   "metadata": {
    "executionInfo": {
     "elapsed": 7,
     "status": "ok",
     "timestamp": 1633611231083,
     "user": {
      "displayName": "cyril.vallez@orange.fr",
      "photoUrl": "https://lh3.googleusercontent.com/a/default-user=s64",
      "userId": "15783316175492714013"
     },
     "user_tz": -120
    },
    "id": "FenhGgSwqe6L"
   },
   "outputs": [],
   "source": [
    "# Standard import\n",
    "import numpy as np\n",
    "import matplotlib.pyplot as plt\n",
    "%matplotlib inline"
   ]
  },
  {
   "cell_type": "code",
   "execution_count": 2,
   "metadata": {
    "executionInfo": {
     "elapsed": 1873,
     "status": "ok",
     "timestamp": 1633611259117,
     "user": {
      "displayName": "cyril.vallez@orange.fr",
      "photoUrl": "https://lh3.googleusercontent.com/a/default-user=s64",
      "userId": "15783316175492714013"
     },
     "user_tz": -120
    },
    "id": "81HANnx9qs8L"
   },
   "outputs": [],
   "source": [
    "# Machine learning libraries\n",
    "from tensorflow import keras\n",
    "import tensorflow as tf"
   ]
  },
  {
   "cell_type": "code",
   "execution_count": 3,
   "metadata": {
    "executionInfo": {
     "elapsed": 3073,
     "status": "ok",
     "timestamp": 1633611262185,
     "user": {
      "displayName": "cyril.vallez@orange.fr",
      "photoUrl": "https://lh3.googleusercontent.com/a/default-user=s64",
      "userId": "15783316175492714013"
     },
     "user_tz": -120
    },
    "id": "AycOrkloAd2n"
   },
   "outputs": [],
   "source": [
    "from Tools import Plot\n",
    "from Tools import Custom_models\n",
    "from Tools import Helpers"
   ]
  },
  {
   "cell_type": "markdown",
   "metadata": {},
   "source": [
    "## Set the seeds and extract the testing set"
   ]
  },
  {
   "cell_type": "code",
   "execution_count": 4,
   "metadata": {},
   "outputs": [],
   "source": [
    "# Set the seed for reproducibility\n",
    "seed = 6\n",
    "np.random.seed(seed)\n",
    "tf.random.set_seed(seed*2)"
   ]
  },
  {
   "cell_type": "code",
   "execution_count": 5,
   "metadata": {},
   "outputs": [],
   "source": [
    "_, _, features_test, labels_test = Helpers.Load_and_split_1D('Data/tanh.txt', seed, ratio=0.9)"
   ]
  },
  {
   "cell_type": "markdown",
   "metadata": {
    "id": "nquZwxFBq640"
   },
   "source": [
    "## Load a model"
   ]
  },
  {
   "cell_type": "code",
   "execution_count": 6,
   "metadata": {
    "executionInfo": {
     "elapsed": 4525,
     "status": "ok",
     "timestamp": 1633611269921,
     "user": {
      "displayName": "cyril.vallez@orange.fr",
      "photoUrl": "https://lh3.googleusercontent.com/a/default-user=s64",
      "userId": "15783316175492714013"
     },
     "user_tz": -120
    },
    "id": "eYny_ilOq8nt"
   },
   "outputs": [],
   "source": [
    "model_name = 'Saved_models/Dense_2_layer_1stlayer_non_trainable'\n",
    "model = keras.models.load_model(model_name)"
   ]
  },
  {
   "cell_type": "markdown",
   "metadata": {},
   "source": [
    "## Assess the performance of the model on the testing set"
   ]
  },
  {
   "cell_type": "code",
   "execution_count": 7,
   "metadata": {},
   "outputs": [
    {
     "name": "stdout",
     "output_type": "stream",
     "text": [
      "The MSE is : 2.3338e-05. The MSE for the exact FEM weights is : 4.6153e-05\n",
      "The MAE is : 2.0997e-03. The MAE for the exact FEM weights is : 1.7933e-03\n"
     ]
    },
    {
     "name": "stderr",
     "output_type": "stream",
     "text": [
      "2021-10-20 17:38:00.628071: I tensorflow/compiler/mlir/mlir_graph_optimization_pass.cc:185] None of the MLIR Optimization Passes are enabled (registered 2)\n",
      "2021-10-20 17:38:00.628229: W tensorflow/core/platform/profile_utils/cpu_utils.cc:128] Failed to get CPU frequency: 0 Hz\n"
     ]
    }
   ],
   "source": [
    "mse = Helpers.MSE(model, features_test, labels_test)\n",
    "mae = Helpers.MAE(model, features_test, labels_test)\n",
    "print(f'The MSE is : {mse:.4e}. The MSE for the exact FEM weights is : 4.6153e-05')\n",
    "print(f'The MAE is : {mae:.4e}. The MAE for the exact FEM weights is : 1.7933e-03')"
   ]
  },
  {
   "cell_type": "markdown",
   "metadata": {},
   "source": [
    "## Print a summary of the loaded model"
   ]
  },
  {
   "cell_type": "code",
   "execution_count": 8,
   "metadata": {
    "colab": {
     "base_uri": "https://localhost:8080/"
    },
    "executionInfo": {
     "elapsed": 8,
     "status": "ok",
     "timestamp": 1633611271318,
     "user": {
      "displayName": "cyril.vallez@orange.fr",
      "photoUrl": "https://lh3.googleusercontent.com/a/default-user=s64",
      "userId": "15783316175492714013"
     },
     "user_tz": -120
    },
    "id": "y4jc0bGyxunC",
    "outputId": "cadbee59-2741-48c5-aa6e-01246c3c39d2"
   },
   "outputs": [
    {
     "name": "stdout",
     "output_type": "stream",
     "text": [
      "Model: \"Dense_2_layer_1stlayer_non_trainable\"\n",
      "_________________________________________________________________\n",
      "Layer (type)                 Output Shape              Param #   \n",
      "=================================================================\n",
      "dense1 (Dense)               multiple                  200       \n",
      "_________________________________________________________________\n",
      "dense2 (Dense)               multiple                  9898      \n",
      "_________________________________________________________________\n",
      "dense3 (Dense)               multiple                  99        \n",
      "=================================================================\n",
      "Total params: 10,197\n",
      "Trainable params: 9,997\n",
      "Non-trainable params: 200\n",
      "_________________________________________________________________\n"
     ]
    }
   ],
   "source": [
    "model.summary()"
   ]
  },
  {
   "cell_type": "markdown",
   "metadata": {},
   "source": [
    "## Extract layers and weights of the model"
   ]
  },
  {
   "cell_type": "code",
   "execution_count": 9,
   "metadata": {},
   "outputs": [],
   "source": [
    "layer1 = model.get_layer(name='dense1')\n",
    "layer2 = model.get_layer(name='dense2')\n",
    "layer3 = model.get_layer(name='dense3')"
   ]
  },
  {
   "cell_type": "code",
   "execution_count": 10,
   "metadata": {
    "executionInfo": {
     "elapsed": 408,
     "status": "ok",
     "timestamp": 1633611288248,
     "user": {
      "displayName": "cyril.vallez@orange.fr",
      "photoUrl": "https://lh3.googleusercontent.com/a/default-user=s64",
      "userId": "15783316175492714013"
     },
     "user_tz": -120
    },
    "id": "CbtFBhWyrrEa"
   },
   "outputs": [],
   "source": [
    "weights1 = layer1.get_weights()\n",
    "weights2 = layer2.get_weights()\n",
    "weights3 = layer3.get_weights()"
   ]
  },
  {
   "cell_type": "code",
   "execution_count": 11,
   "metadata": {
    "executionInfo": {
     "elapsed": 452,
     "status": "ok",
     "timestamp": 1633611290518,
     "user": {
      "displayName": "cyril.vallez@orange.fr",
      "photoUrl": "https://lh3.googleusercontent.com/a/default-user=s64",
      "userId": "15783316175492714013"
     },
     "user_tz": -120
    },
    "id": "7exWqZhtsw5y"
   },
   "outputs": [],
   "source": [
    "core1 = weights1[0].flatten()\n",
    "bias1 = weights1[1].flatten()\n",
    "core2 = weights2[0].flatten()\n",
    "bias2 = weights2[1].flatten()\n",
    "core3 = weights3[0].flatten()\n",
    "bias3 = weights3[1].flatten()"
   ]
  },
  {
   "cell_type": "markdown",
   "metadata": {},
   "source": [
    "## Compute the basis functions created by the model"
   ]
  },
  {
   "cell_type": "code",
   "execution_count": 12,
   "metadata": {},
   "outputs": [],
   "source": [
    "# Computes the interval on which evaluate the basis functions and the real solution\n",
    "x = np.linspace(0, 1, 1000)\n",
    "y = 1/2*(1 + np.tanh(100*(x-1/3))) - 1/2*(1 + np.tanh(100*(x-2/3)))"
   ]
  },
  {
   "cell_type": "code",
   "execution_count": 13,
   "metadata": {},
   "outputs": [],
   "source": [
    "# First layer basis functions\n",
    "basis_func_layer1 = Helpers.basis_functions_first_layer(x, layer1)"
   ]
  },
  {
   "cell_type": "code",
   "execution_count": 14,
   "metadata": {},
   "outputs": [],
   "source": [
    "# Second layer basis functions\n",
    "second_layer_is_conv = False\n",
    "\n",
    "basis_func_layer2 = Helpers.basis_functions_second_layer(x, layer1, layer2, conv=second_layer_is_conv)"
   ]
  },
  {
   "cell_type": "markdown",
   "metadata": {},
   "source": [
    "## Visualize the basis functions"
   ]
  },
  {
   "cell_type": "code",
   "execution_count": 23,
   "metadata": {},
   "outputs": [
    {
     "data": {
      "image/png": "[encoded data removed]",
      "text/plain": [
       "<Figure size 500x600 with 2 Axes>"
      ]
     },
     "metadata": {
      "needs_background": "light"
     },
     "output_type": "display_data"
    }
   ],
   "source": [
    "filename = 'Figures/1D_Relu_functions/1D_2_layers_non_trainable.pdf'\n",
    "save = False\n",
    "\n",
    "# Set to false to see only basis functions on the first layer\n",
    "visualize_both = True\n",
    "# To visualize only one function each offset values\n",
    "offset1 = 5\n",
    "offset2 = 1\n",
    "\n",
    "if (visualize_both):\n",
    "    fig, axs = plt.subplots(nrows=2, figsize=[5, 6])\n",
    "    plt.subplots_adjust(hspace=0.5)\n",
    "\n",
    "    for i in range(0, len(basis_func_layer1), offset1):\n",
    "        axs[0].plot(x, basis_func_layer1[i,:])\n",
    "    axs[0].plot(x, y, 'r-')\n",
    "    axs[0].set(title='First Layer', xlabel='$x$', ylabel='$f(x)$')\n",
    "    axs[0].set(xlim=[0,1], ylim=[-0.1, 1.2])\n",
    "    axs[0].grid()\n",
    "\n",
    "    for i in range(0, len(basis_func_layer2), offset2):\n",
    "        axs[1].plot(x, basis_func_layer2[i,:])\n",
    "    axs[1].plot(x, y, 'r-')\n",
    "    axs[1].set(title='Second Layer', xlabel='$x$', ylabel='$f(x)$')\n",
    "    #axs[1].set(xlim=[0,1], ylim=[-0.1, 2])\n",
    "    axs[1].grid()\n",
    "\n",
    "    if (save):\n",
    "        plt.savefig(filename, bbox_inches='tight')\n",
    "    plt.show()\n",
    "\n",
    "else:\n",
    "    plt.figure()\n",
    "    for i in range(0, len(basis_func_layer1), offset):\n",
    "        plt.plot(x, basis_func_layer1[i,:])\n",
    "    plt.plot(x, y, 'r-')\n",
    "    plt.xlabel('$x$')\n",
    "    plt.ylabel('$f(x)$')\n",
    "    plt.xlim([0,1])\n",
    "    plt.ylim([-0.1, 2])\n",
    "    plt.grid()\n",
    "    if save:\n",
    "        plt.savefig(filename, bbox_inches='tight')\n",
    "    plt.show()"
   ]
  },
  {
   "cell_type": "markdown",
   "metadata": {},
   "source": [
    "## Inspect raw weights"
   ]
  },
  {
   "cell_type": "code",
   "execution_count": 16,
   "metadata": {},
   "outputs": [
    {
     "name": "stdout",
     "output_type": "stream",
     "text": [
      "[-0.02956242]\n"
     ]
    }
   ],
   "source": [
    "print(bias2)"
   ]
  },
  {
   "cell_type": "code",
   "execution_count": 18,
   "metadata": {},
   "outputs": [
    {
     "name": "stdout",
     "output_type": "stream",
     "text": [
      "[-4.860951  10.157145  -5.0129123]\n"
     ]
    }
   ],
   "source": [
    "print(core2)"
   ]
  },
  {
   "cell_type": "code",
   "execution_count": 12,
   "metadata": {},
   "outputs": [
    {
     "data": {
      "text/plain": [
       "array([ True,  True,  True,  True,  True,  True, False,  True,  True,\n",
       "        True, False,  True,  True,  True, False, False,  True, False,\n",
       "        True,  True,  True,  True,  True,  True,  True,  True,  True,\n",
       "        True,  True,  True,  True, False,  True,  True,  True, False,\n",
       "        True, False,  True,  True,  True, False,  True,  True,  True,\n",
       "       False, False, False,  True, False,  True,  True, False,  True,\n",
       "        True,  True,  True,  True,  True, False,  True,  True,  True,\n",
       "        True, False,  True,  True, False, False,  True,  True, False,\n",
       "        True,  True, False,  True, False,  True,  True,  True,  True,\n",
       "        True, False,  True,  True,  True,  True,  True,  True, False,\n",
       "       False,  True,  True,  True, False, False, False,  True,  True,\n",
       "        True])"
      ]
     },
     "execution_count": 12,
     "metadata": {},
     "output_type": "execute_result"
    }
   ],
   "source": [
    "-bias1/core1 < 1"
   ]
  },
  {
   "cell_type": "code",
   "execution_count": null,
   "metadata": {},
   "outputs": [],
   "source": []
  }
 ],
 "metadata": {
  "colab": {
   "authorship_tag": "ABX9TyM9K+dGvONylA5goPoLPp/g",
   "collapsed_sections": [],
   "name": "Load_model.ipynb",
   "provenance": []
  },
  "interpreter": {
   "hash": "5ef8b5c884f4f10006a46f2b595a29da78b19d4772ce7a681c995a97d60edbb6"
  },
  "kernelspec": {
   "display_name": "Python 3.8.12 64-bit ('tf': conda)",
   "name": "python3"
  },
  "language_info": {
   "codemirror_mode": {
    "name": "ipython",
    "version": 3
   },
   "file_extension": ".py",
   "mimetype": "text/x-python",
   "name": "python",
   "nbconvert_exporter": "python",
   "pygments_lexer": "ipython3",
   "version": "3.8.12"
  }
 },
 "nbformat": 4,
 "nbformat_minor": 4
}
