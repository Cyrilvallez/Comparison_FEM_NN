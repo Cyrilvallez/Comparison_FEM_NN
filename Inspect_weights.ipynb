{
 "cells": [
  {
   "cell_type": "markdown",
   "metadata": {
    "id": "POdM4uJ1qzWZ"
   },
   "source": [
    "## Different imports and setup"
   ]
  },
  {
   "cell_type": "code",
   "execution_count": 1,
   "metadata": {
    "executionInfo": {
     "elapsed": 7,
     "status": "ok",
     "timestamp": 1633611231083,
     "user": {
      "displayName": "cyril.vallez@orange.fr",
      "photoUrl": "https://lh3.googleusercontent.com/a/default-user=s64",
      "userId": "15783316175492714013"
     },
     "user_tz": -120
    },
    "id": "FenhGgSwqe6L"
   },
   "outputs": [],
   "source": [
    "# Standard import\n",
    "import numpy as np\n",
    "import matplotlib.pyplot as plt\n",
    "%matplotlib widget"
   ]
  },
  {
   "cell_type": "code",
   "execution_count": 2,
   "metadata": {
    "executionInfo": {
     "elapsed": 1873,
     "status": "ok",
     "timestamp": 1633611259117,
     "user": {
      "displayName": "cyril.vallez@orange.fr",
      "photoUrl": "https://lh3.googleusercontent.com/a/default-user=s64",
      "userId": "15783316175492714013"
     },
     "user_tz": -120
    },
    "id": "81HANnx9qs8L"
   },
   "outputs": [],
   "source": [
    "# Machine learning libraries\n",
    "from tensorflow import keras\n",
    "import tensorflow as tf"
   ]
  },
  {
   "cell_type": "code",
   "execution_count": 3,
   "metadata": {
    "executionInfo": {
     "elapsed": 3073,
     "status": "ok",
     "timestamp": 1633611262185,
     "user": {
      "displayName": "cyril.vallez@orange.fr",
      "photoUrl": "https://lh3.googleusercontent.com/a/default-user=s64",
      "userId": "15783316175492714013"
     },
     "user_tz": -120
    },
    "id": "AycOrkloAd2n"
   },
   "outputs": [],
   "source": [
    "from Tools import Plot\n",
    "from Tools import Custom_models"
   ]
  },
  {
   "cell_type": "markdown",
   "metadata": {
    "id": "nquZwxFBq640"
   },
   "source": [
    "## Load a model"
   ]
  },
  {
   "cell_type": "code",
   "execution_count": 13,
   "metadata": {
    "executionInfo": {
     "elapsed": 4525,
     "status": "ok",
     "timestamp": 1633611269921,
     "user": {
      "displayName": "cyril.vallez@orange.fr",
      "photoUrl": "https://lh3.googleusercontent.com/a/default-user=s64",
      "userId": "15783316175492714013"
     },
     "user_tz": -120
    },
    "id": "eYny_ilOq8nt"
   },
   "outputs": [],
   "source": [
    "model_name = 'Saved_models/test'\n",
    "model = keras.models.load_model(model_name)"
   ]
  },
  {
   "cell_type": "code",
   "execution_count": 14,
   "metadata": {
    "colab": {
     "base_uri": "https://localhost:8080/"
    },
    "executionInfo": {
     "elapsed": 8,
     "status": "ok",
     "timestamp": 1633611271318,
     "user": {
      "displayName": "cyril.vallez@orange.fr",
      "photoUrl": "https://lh3.googleusercontent.com/a/default-user=s64",
      "userId": "15783316175492714013"
     },
     "user_tz": -120
    },
    "id": "y4jc0bGyxunC",
    "outputId": "cadbee59-2741-48c5-aa6e-01246c3c39d2"
   },
   "outputs": [
    {
     "name": "stdout",
     "output_type": "stream",
     "text": [
      "Model: \"model_1D\"\n",
      "_________________________________________________________________\n",
      "Layer (type)                 Output Shape              Param #   \n",
      "=================================================================\n",
      "dense1 (Dense)               multiple                  200       \n",
      "_________________________________________________________________\n",
      "dense2 (Dense)               multiple                  9898      \n",
      "_________________________________________________________________\n",
      "dense3 (Dense)               multiple                  99        \n",
      "=================================================================\n",
      "Total params: 10,197\n",
      "Trainable params: 10,197\n",
      "Non-trainable params: 0\n",
      "_________________________________________________________________\n"
     ]
    }
   ],
   "source": [
    "model.summary()"
   ]
  },
  {
   "cell_type": "code",
   "execution_count": 15,
   "metadata": {
    "executionInfo": {
     "elapsed": 408,
     "status": "ok",
     "timestamp": 1633611288248,
     "user": {
      "displayName": "cyril.vallez@orange.fr",
      "photoUrl": "https://lh3.googleusercontent.com/a/default-user=s64",
      "userId": "15783316175492714013"
     },
     "user_tz": -120
    },
    "id": "CbtFBhWyrrEa"
   },
   "outputs": [],
   "source": [
    "weights1 = model.get_layer(name='dense1').get_weights()\n",
    "weights2 = model.get_layer(name='dense2').get_weights()\n",
    "weights3 = model.get_layer(name='dense3').get_weights()"
   ]
  },
  {
   "cell_type": "code",
   "execution_count": 16,
   "metadata": {
    "executionInfo": {
     "elapsed": 452,
     "status": "ok",
     "timestamp": 1633611290518,
     "user": {
      "displayName": "cyril.vallez@orange.fr",
      "photoUrl": "https://lh3.googleusercontent.com/a/default-user=s64",
      "userId": "15783316175492714013"
     },
     "user_tz": -120
    },
    "id": "7exWqZhtsw5y"
   },
   "outputs": [],
   "source": [
    "core1 = weights1[0].flatten()\n",
    "bias1 = weights1[1].flatten()\n",
    "core2 = weights2[0].flatten()\n",
    "bias2 = weights2[1].flatten()\n",
    "core3 = weights3[0].flatten()\n",
    "bias3 = weights3[1].flatten()"
   ]
  },
  {
   "cell_type": "code",
   "execution_count": 17,
   "metadata": {
    "id": "AWSIiULvy7LF"
   },
   "outputs": [
    {
     "data": {
      "application/vnd.jupyter.widget-view+json": {
       "model_id": "87e954bc788f4ecc83f4cb0dca3068bf",
       "version_major": 2,
       "version_minor": 0
      },
      "image/png": "[encoded data removed]",
      "text/plain": [
       "Canvas(toolbar=Toolbar(toolitems=[('Home', 'Reset original view', 'home', 'home'), ('Back', 'Back to previous …"
      ]
     },
     "metadata": {},
     "output_type": "display_data"
    }
   ],
   "source": [
    "x = np.linspace(0, 1, 1000)\n",
    "y = 1/2*(1 + np.tanh(100*(x-1/3))) - 1/2*(1 + np.tanh(100*(x-2/3)))\n",
    "\n",
    "filename = 'Figures/1D_Relu_functions/2_layer_default_init.pdf'\n",
    "save = False\n",
    "\n",
    "plt.figure()\n",
    "for i in range(100):\n",
    "    plt.plot(x, tf.nn.relu(core1[i]*x + bias1[i]))\n",
    "plt.plot(x, y, 'r-')\n",
    "plt.xlabel('$x$')\n",
    "plt.ylabel('$f(x)$')\n",
    "plt.ylim([-0.1, 1.2])\n",
    "plt.xlim([0,1])\n",
    "plt.grid()\n",
    "plt.show()\n",
    "if (save):\n",
    "    plt.savefig(filename, bbox_inches='tight')"
   ]
  },
  {
   "cell_type": "code",
   "execution_count": 10,
   "metadata": {},
   "outputs": [
    {
     "name": "stdout",
     "output_type": "stream",
     "text": [
      "[-0.06233388  0.07622331  0.13128132 ... -0.41133124 -0.25746924\n",
      " -4.5326395 ]\n"
     ]
    }
   ],
   "source": [
    "print(core2)"
   ]
  },
  {
   "cell_type": "code",
   "execution_count": 11,
   "metadata": {},
   "outputs": [
    {
     "name": "stdout",
     "output_type": "stream",
     "text": [
      "[ 9.25897181e-01 -6.00429252e-02 -1.27501458e-01 -2.32165754e-01\n",
      " -3.95303845e-01 -3.73185337e-01 -3.32495987e-01 -3.04490626e-01\n",
      " -5.10637879e-01 -5.93366772e-02 -4.80856672e-02 -5.23122370e-01\n",
      " -8.50835815e-02 -9.59553123e-02 -1.11570418e-01 -6.00510351e-02\n",
      " -1.46152616e-01 -8.32650587e-02 -4.15951192e-01 -1.59679912e-02\n",
      " -1.66585058e-01 -2.32085772e-02 -8.23064446e-01 -4.08538848e-01\n",
      " -3.60099912e-01 -4.39433506e-07 -6.97543292e-05 -1.17323041e-01\n",
      " -2.16076791e-01 -5.35821617e-01 -3.11065823e-01 -2.48375207e-01\n",
      " -7.83501135e-04 -2.03335211e-01 -8.46524537e-02  0.00000000e+00\n",
      " -4.02817018e-02 -2.83595681e-01 -3.84366244e-01 -1.41532749e-01\n",
      " -6.00537322e-02 -1.88758045e-01 -7.79069781e-01 -3.96948367e-01\n",
      " -2.08759099e-01 -3.35546434e-01 -6.00537360e-02 -4.39765930e-01\n",
      " -2.28682009e-04 -6.96441205e-03 -3.75022829e-01 -5.55304959e-02\n",
      " -9.93664116e-02 -7.16216326e-01 -3.83974286e-03 -5.90433627e-02\n",
      " -5.51973470e-02 -5.12958504e-02 -7.55350292e-02 -6.04548037e-01\n",
      " -3.20043474e-01 -5.55219613e-02 -3.32610995e-01 -6.00537136e-02\n",
      " -5.10409288e-02 -5.04927337e-03 -8.83585438e-02 -2.91419029e-01\n",
      " -1.99297350e-02 -1.26970336e-02 -5.55261374e-02 -6.24127574e-02\n",
      " -1.74202874e-01 -1.33568853e-01 -6.00467101e-02 -6.00523464e-02\n",
      " -1.38065973e-02 -7.22458810e-02 -6.00503013e-02 -2.40906537e-01\n",
      " -4.62507899e-09 -1.24074645e-01  2.07891464e+00 -5.15338123e-01\n",
      " -2.46240348e-01 -3.54614019e-01  4.70439434e-01 -3.65504205e-01\n",
      " -6.60906672e-01 -4.68749553e-02 -5.09276129e-02 -3.03044260e-01\n",
      " -1.88747779e-01 -6.43243489e-04 -2.61499267e-09 -2.99145162e-01\n",
      " -3.93672615e-01 -6.52685994e-04]\n"
     ]
    }
   ],
   "source": [
    "print(bias2)"
   ]
  },
  {
   "cell_type": "code",
   "execution_count": 12,
   "metadata": {},
   "outputs": [
    {
     "data": {
      "text/plain": [
       "array([ True,  True,  True,  True,  True,  True, False,  True,  True,\n",
       "        True, False,  True,  True,  True, False, False,  True, False,\n",
       "        True,  True,  True,  True,  True,  True,  True,  True,  True,\n",
       "        True,  True,  True,  True, False,  True,  True,  True, False,\n",
       "        True, False,  True,  True,  True, False,  True,  True,  True,\n",
       "       False, False, False,  True, False,  True,  True, False,  True,\n",
       "        True,  True,  True,  True,  True, False,  True,  True,  True,\n",
       "        True, False,  True,  True, False, False,  True,  True, False,\n",
       "        True,  True, False,  True, False,  True,  True,  True,  True,\n",
       "        True, False,  True,  True,  True,  True,  True,  True, False,\n",
       "       False,  True,  True,  True, False, False, False,  True,  True,\n",
       "        True])"
      ]
     },
     "execution_count": 12,
     "metadata": {},
     "output_type": "execute_result"
    }
   ],
   "source": [
    "-bias1/core1 < 1"
   ]
  },
  {
   "cell_type": "code",
   "execution_count": null,
   "metadata": {},
   "outputs": [],
   "source": []
  }
 ],
 "metadata": {
  "colab": {
   "authorship_tag": "ABX9TyM9K+dGvONylA5goPoLPp/g",
   "collapsed_sections": [],
   "name": "Load_model.ipynb",
   "provenance": []
  },
  "kernelspec": {
   "display_name": "Python 3 (ipykernel)",
   "language": "python",
   "name": "python3"
  },
  "language_info": {
   "codemirror_mode": {
    "name": "ipython",
    "version": 3
   },
   "file_extension": ".py",
   "mimetype": "text/x-python",
   "name": "python",
   "nbconvert_exporter": "python",
   "pygments_lexer": "ipython3",
   "version": "3.8.12"
  }
 },
 "nbformat": 4,
 "nbformat_minor": 4
}
