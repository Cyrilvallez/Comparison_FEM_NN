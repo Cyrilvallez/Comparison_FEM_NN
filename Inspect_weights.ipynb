{
 "cells": [
  {
   "cell_type": "markdown",
   "metadata": {
    "id": "POdM4uJ1qzWZ"
   },
   "source": [
    "## Different imports and setup"
   ]
  },
  {
   "cell_type": "code",
   "execution_count": 241,
   "metadata": {
    "executionInfo": {
     "elapsed": 7,
     "status": "ok",
     "timestamp": 1633611231083,
     "user": {
      "displayName": "cyril.vallez@orange.fr",
      "photoUrl": "https://lh3.googleusercontent.com/a/default-user=s64",
      "userId": "15783316175492714013"
     },
     "user_tz": -120
    },
    "id": "FenhGgSwqe6L"
   },
   "outputs": [],
   "source": [
    "# Standard import\n",
    "import numpy as np\n",
    "import matplotlib.pyplot as plt\n",
    "%matplotlib widget"
   ]
  },
  {
   "cell_type": "code",
   "execution_count": 242,
   "metadata": {
    "executionInfo": {
     "elapsed": 1873,
     "status": "ok",
     "timestamp": 1633611259117,
     "user": {
      "displayName": "cyril.vallez@orange.fr",
      "photoUrl": "https://lh3.googleusercontent.com/a/default-user=s64",
      "userId": "15783316175492714013"
     },
     "user_tz": -120
    },
    "id": "81HANnx9qs8L"
   },
   "outputs": [],
   "source": [
    "# Machine learning libraries\n",
    "from tensorflow import keras\n",
    "import tensorflow as tf"
   ]
  },
  {
   "cell_type": "code",
   "execution_count": 243,
   "metadata": {
    "executionInfo": {
     "elapsed": 3073,
     "status": "ok",
     "timestamp": 1633611262185,
     "user": {
      "displayName": "cyril.vallez@orange.fr",
      "photoUrl": "https://lh3.googleusercontent.com/a/default-user=s64",
      "userId": "15783316175492714013"
     },
     "user_tz": -120
    },
    "id": "AycOrkloAd2n"
   },
   "outputs": [],
   "source": [
    "from Tools import Plot\n",
    "from Tools import Custom_models\n",
    "from Tools import Helpers"
   ]
  },
  {
   "cell_type": "markdown",
   "metadata": {},
   "source": [
    "## Set the seeds and extract the testing set"
   ]
  },
  {
   "cell_type": "code",
   "execution_count": 244,
   "metadata": {},
   "outputs": [],
   "source": [
    "# Set the seed for reproducibility\n",
    "seed = 6\n",
    "np.random.seed(seed)\n",
    "tf.random.set_seed(seed*2)"
   ]
  },
  {
   "cell_type": "code",
   "execution_count": 245,
   "metadata": {},
   "outputs": [],
   "source": [
    "_, _, features_test, labels_test = Helpers.Load_and_split_1D('Data/tanh_k50.txt', seed, ratio=0.9)"
   ]
  },
  {
   "cell_type": "markdown",
   "metadata": {
    "id": "nquZwxFBq640"
   },
   "source": [
    "## Load a model"
   ]
  },
  {
   "cell_type": "code",
   "execution_count": 311,
   "metadata": {
    "executionInfo": {
     "elapsed": 4525,
     "status": "ok",
     "timestamp": 1633611269921,
     "user": {
      "displayName": "cyril.vallez@orange.fr",
      "photoUrl": "https://lh3.googleusercontent.com/a/default-user=s64",
      "userId": "15783316175492714013"
     },
     "user_tz": -120
    },
    "id": "eYny_ilOq8nt"
   },
   "outputs": [],
   "source": [
    "model_name = 'Saved_models/Depth_study/batch_32-depth_3-iter_2'\n",
    "model = keras.models.load_model(model_name)"
   ]
  },
  {
   "cell_type": "markdown",
   "metadata": {},
   "source": [
    "## Assess the performance of the model on the testing set"
   ]
  },
  {
   "cell_type": "code",
   "execution_count": 312,
   "metadata": {},
   "outputs": [
    {
     "name": "stdout",
     "output_type": "stream",
     "text": [
      "The MSE is : 4.5581e-05\n",
      "The MAE is : 3.3631e-03\n",
      "The MaAE is : 4.4301e-02\n"
     ]
    }
   ],
   "source": [
    "mse = Helpers.MSE(model, features_test, labels_test)\n",
    "mae = Helpers.MAE(model, features_test, labels_test)\n",
    "maae = Helpers.MaAE(model, features_test, labels_test)\n",
    "print(f'The MSE is : {mse:.4e}')\n",
    "print(f'The MAE is : {mae:.4e}')\n",
    "print(f'The MaAE is : {maae:.4e}')"
   ]
  },
  {
   "cell_type": "code",
   "execution_count": 271,
   "metadata": {},
   "outputs": [],
   "source": [
    "sorting = np.argsort(features_test)\n",
    "features_testing = features_test[sorting]\n",
    "labels_testing = labels_test[sorting]\n",
    "\n",
    "prediction = model.predict(features_testing)\n",
    "prediction = np.ravel(prediction)"
   ]
  },
  {
   "cell_type": "code",
   "execution_count": 272,
   "metadata": {},
   "outputs": [
    {
     "data": {
      "application/vnd.jupyter.widget-view+json": {
       "model_id": "e3af7afe710e497a8bd422f77cfdc097",
       "version_major": 2,
       "version_minor": 0
      },
      "image/png": "[encoded data removed]",
      "text/plain": [
       "Canvas(toolbar=Toolbar(toolitems=[('Home', 'Reset original view', 'home', 'home'), ('Back', 'Back to previous …"
      ]
     },
     "metadata": {},
     "output_type": "display_data"
    }
   ],
   "source": [
    "save = False\n",
    "name = 'Figures/Deep_depth_study/Deep_depth_study_best_approximation_zoom.pdf'\n",
    "\n",
    "plt.figure()\n",
    "plt.plot(features_testing, labels_testing, 'b-', label='True')\n",
    "plt.plot(features_testing, prediction, 'r--', label='Prediction')\n",
    "plt.xlabel('$x$')\n",
    "plt.ylabel('$f(x)$')\n",
    "plt.legend()\n",
    "plt.grid()\n",
    "#plt.xlim([0.3, 0.38])\n",
    "if (save):\n",
    "    plt.savefig(name, bbox_inches='tight')\n",
    "plt.show()"
   ]
  },
  {
   "cell_type": "markdown",
   "metadata": {},
   "source": [
    "## Print a summary of the loaded model"
   ]
  },
  {
   "cell_type": "code",
   "execution_count": 313,
   "metadata": {
    "colab": {
     "base_uri": "https://localhost:8080/"
    },
    "executionInfo": {
     "elapsed": 8,
     "status": "ok",
     "timestamp": 1633611271318,
     "user": {
      "displayName": "cyril.vallez@orange.fr",
      "photoUrl": "https://lh3.googleusercontent.com/a/default-user=s64",
      "userId": "15783316175492714013"
     },
     "user_tz": -120
    },
    "id": "y4jc0bGyxunC",
    "outputId": "cadbee59-2741-48c5-aa6e-01246c3c39d2"
   },
   "outputs": [
    {
     "name": "stdout",
     "output_type": "stream",
     "text": [
      "Model: \"sequential\"\n",
      "_________________________________________________________________\n",
      "Layer (type)                 Output Shape              Param #   \n",
      "=================================================================\n",
      "dense1 (Dense)               (None, 75)                150       \n",
      "_________________________________________________________________\n",
      "dense2 (Dense)               (None, 75)                5700      \n",
      "_________________________________________________________________\n",
      "dense3 (Dense)               (None, 75)                5700      \n",
      "_________________________________________________________________\n",
      "dense4 (Dense)               (None, 1)                 76        \n",
      "=================================================================\n",
      "Total params: 11,626\n",
      "Trainable params: 11,626\n",
      "Non-trainable params: 0\n",
      "_________________________________________________________________\n"
     ]
    }
   ],
   "source": [
    "model.sequence.summary()"
   ]
  },
  {
   "cell_type": "markdown",
   "metadata": {},
   "source": [
    "## Extract layers and weights of the model"
   ]
  },
  {
   "cell_type": "code",
   "execution_count": 218,
   "metadata": {},
   "outputs": [],
   "source": [
    "layer1 = model.get_layer(name='dense1')\n",
    "layer2 = model.get_layer(name='conv')\n",
    "layer3 = model.get_layer(name='dense2')"
   ]
  },
  {
   "cell_type": "code",
   "execution_count": 219,
   "metadata": {
    "executionInfo": {
     "elapsed": 408,
     "status": "ok",
     "timestamp": 1633611288248,
     "user": {
      "displayName": "cyril.vallez@orange.fr",
      "photoUrl": "https://lh3.googleusercontent.com/a/default-user=s64",
      "userId": "15783316175492714013"
     },
     "user_tz": -120
    },
    "id": "CbtFBhWyrrEa"
   },
   "outputs": [],
   "source": [
    "weights1 = layer1.get_weights()\n",
    "weights2 = layer2.get_weights()\n",
    "weights3 = layer3.get_weights()"
   ]
  },
  {
   "cell_type": "code",
   "execution_count": 220,
   "metadata": {
    "executionInfo": {
     "elapsed": 452,
     "status": "ok",
     "timestamp": 1633611290518,
     "user": {
      "displayName": "cyril.vallez@orange.fr",
      "photoUrl": "https://lh3.googleusercontent.com/a/default-user=s64",
      "userId": "15783316175492714013"
     },
     "user_tz": -120
    },
    "id": "7exWqZhtsw5y"
   },
   "outputs": [],
   "source": [
    "core1 = weights1[0].flatten()\n",
    "bias1 = weights1[1].flatten()\n",
    "core2 = weights2[0].flatten()\n",
    "bias2 = weights2[1].flatten()\n",
    "core3 = weights3[0].flatten()\n",
    "bias3 = weights3[1].flatten()"
   ]
  },
  {
   "cell_type": "markdown",
   "metadata": {},
   "source": [
    "## Compute the basis functions created by the model"
   ]
  },
  {
   "cell_type": "code",
   "execution_count": 277,
   "metadata": {},
   "outputs": [],
   "source": [
    "layers = [model.sequence.get_layer(name=f'dense{i}') for i in range(1,62)]"
   ]
  },
  {
   "cell_type": "code",
   "execution_count": 278,
   "metadata": {},
   "outputs": [],
   "source": [
    "# Computes the interval on which evaluate the basis functions and the real solution\n",
    "x = np.linspace(0, 1, 10000)\n",
    "y = 1/2*(1 + np.tanh(50*(x-1/3))) - 1/2*(1 + np.tanh(50*(x-2/3)))"
   ]
  },
  {
   "cell_type": "code",
   "execution_count": 222,
   "metadata": {},
   "outputs": [],
   "source": [
    "# First layer basis functions\n",
    "basis_func_layer1 = Helpers.basis_functions_layer(x, [layer1])"
   ]
  },
  {
   "cell_type": "code",
   "execution_count": 223,
   "metadata": {},
   "outputs": [],
   "source": [
    "# Second layer basis functions\n",
    "basis_func_layer2 = Helpers.basis_functions_conv_layer(x, layer1, layer2)"
   ]
  },
  {
   "cell_type": "code",
   "execution_count": null,
   "metadata": {},
   "outputs": [],
   "source": []
  },
  {
   "cell_type": "code",
   "execution_count": null,
   "metadata": {},
   "outputs": [],
   "source": [
    "layers = [model.sequence.get_layer(name=f'dense{i}') for i in range(1,62)]"
   ]
  },
  {
   "cell_type": "code",
   "execution_count": 282,
   "metadata": {},
   "outputs": [],
   "source": [
    "basis_func_layer1 = Helpers.basis_functions_layer(x, [layers[0]])\n",
    "basis_func_layer2 = Helpers.basis_functions_layer(x, layers[0:2])\n",
    "basis_func_layer5 = Helpers.basis_functions_layer(x, layers[0:5])\n",
    "basis_func_layer10 = Helpers.basis_functions_layer(x, layers[0:10])\n",
    "basis_func_layer20 = Helpers.basis_functions_layer(x, layers[0:20])\n",
    "basis_func_layer30 = Helpers.basis_functions_layer(x, layers[0:30])\n",
    "basis_func_layer40 = Helpers.basis_functions_layer(x, layers[0:40])\n",
    "basis_func_layer50 = Helpers.basis_functions_layer(x, layers[0:50])\n",
    "basis_func_layer60 = Helpers.basis_functions_layer(x, layers[0:60])"
   ]
  },
  {
   "cell_type": "markdown",
   "metadata": {},
   "source": [
    "## Visualize the basis functions"
   ]
  },
  {
   "cell_type": "code",
   "execution_count": 310,
   "metadata": {},
   "outputs": [
    {
     "data": {
      "application/vnd.jupyter.widget-view+json": {
       "model_id": "076d26b7e3ae4b13b53ac052999b5df9",
       "version_major": 2,
       "version_minor": 0
      },
      "image/png": "[encoded data removed]",
      "text/plain": [
       "Canvas(toolbar=Toolbar(toolitems=[('Home', 'Reset original view', 'home', 'home'), ('Back', 'Back to previous …"
      ]
     },
     "metadata": {},
     "output_type": "display_data"
    }
   ],
   "source": [
    "filename = 'Figures/Deep_depth_study/best_relu_layer_1.pdf'\n",
    "save = False\n",
    "\n",
    "# To visualize only one function each offset values\n",
    "offset = 1\n",
    "\n",
    "# To visualize the right layer\n",
    "basis_func = basis_func_layer1\n",
    "\n",
    "plt.figure()\n",
    "for i in range(0, len(basis_func), offset):\n",
    "    plt.plot(x, basis_func[i,:])\n",
    "plt.plot(x, y, 'k-')\n",
    "plt.xlabel('$x$')\n",
    "plt.ylabel('$f(x)$')\n",
    "#plt.ylim([-0.1, 1.3])\n",
    "plt.grid()\n",
    "if save:\n",
    "    plt.savefig(filename, bbox_inches='tight')\n",
    "plt.show()"
   ]
  },
  {
   "cell_type": "markdown",
   "metadata": {},
   "source": [
    "## Inspect raw weights"
   ]
  },
  {
   "cell_type": "code",
   "execution_count": null,
   "metadata": {},
   "outputs": [],
   "source": [
    "print(bias2)"
   ]
  },
  {
   "cell_type": "code",
   "execution_count": null,
   "metadata": {},
   "outputs": [],
   "source": [
    "print(core2)"
   ]
  },
  {
   "cell_type": "code",
   "execution_count": null,
   "metadata": {},
   "outputs": [],
   "source": [
    "-bias1/core1 < 1"
   ]
  },
  {
   "cell_type": "code",
   "execution_count": 292,
   "metadata": {},
   "outputs": [],
   "source": [
    "plt.close('all')"
   ]
  },
  {
   "cell_type": "code",
   "execution_count": null,
   "metadata": {},
   "outputs": [],
   "source": []
  }
 ],
 "metadata": {
  "colab": {
   "authorship_tag": "ABX9TyM9K+dGvONylA5goPoLPp/g",
   "collapsed_sections": [],
   "name": "Load_model.ipynb",
   "provenance": []
  },
  "interpreter": {
   "hash": "5ef8b5c884f4f10006a46f2b595a29da78b19d4772ce7a681c995a97d60edbb6"
  },
  "kernelspec": {
   "display_name": "Python 3 (ipykernel)",
   "language": "python",
   "name": "python3"
  },
  "language_info": {
   "codemirror_mode": {
    "name": "ipython",
    "version": 3
   },
   "file_extension": ".py",
   "mimetype": "text/x-python",
   "name": "python",
   "nbconvert_exporter": "python",
   "pygments_lexer": "ipython3",
   "version": "3.8.12"
  }
 },
 "nbformat": 4,
 "nbformat_minor": 4
}
