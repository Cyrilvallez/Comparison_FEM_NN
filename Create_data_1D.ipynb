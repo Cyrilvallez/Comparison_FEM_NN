{
 "cells": [
  {
   "cell_type": "code",
   "execution_count": null,
   "id": "1b079676-52c9-40fb-9a01-c36637605039",
   "metadata": {
    "id": "1b079676-52c9-40fb-9a01-c36637605039"
   },
   "outputs": [],
   "source": [
    "import numpy as np\n",
    "np.random.seed(4)"
   ]
  },
  {
   "cell_type": "code",
   "execution_count": null,
   "id": "xdE3MXQL1ndo",
   "metadata": {
    "colab": {
     "base_uri": "https://localhost:8080/"
    },
    "executionInfo": {
     "elapsed": 8,
     "status": "ok",
     "timestamp": 1633427340818,
     "user": {
      "displayName": "cyril.vallez@orange.fr",
      "photoUrl": "https://lh3.googleusercontent.com/a/default-user=s64",
      "userId": "15783316175492714013"
     },
     "user_tz": -120
    },
    "id": "xdE3MXQL1ndo",
    "outputId": "57d890e0-95fb-4f10-d878-780de0f9bd19"
   },
   "outputs": [
    {
     "name": "stdout",
     "output_type": "stream",
     "text": [
      "Drive already mounted at /content/mydrive; to attempt to forcibly remount, call drive.mount(\"/content/mydrive\", force_remount=True).\n"
     ]
    }
   ],
   "source": [
    "from google.colab import drive\n",
    "drive.mount('/content/mydrive')"
   ]
  },
  {
   "cell_type": "code",
   "execution_count": null,
   "id": "ujVpOq4I1qHs",
   "metadata": {
    "colab": {
     "base_uri": "https://localhost:8080/"
    },
    "executionInfo": {
     "elapsed": 338,
     "status": "ok",
     "timestamp": 1633427342780,
     "user": {
      "displayName": "cyril.vallez@orange.fr",
      "photoUrl": "https://lh3.googleusercontent.com/a/default-user=s64",
      "userId": "15783316175492714013"
     },
     "user_tz": -120
    },
    "id": "ujVpOq4I1qHs",
    "outputId": "aa820d14-1142-4b2a-8612-af7340bad3ab"
   },
   "outputs": [
    {
     "name": "stdout",
     "output_type": "stream",
     "text": [
      "/content/mydrive/MyDrive/Semester_project\n",
      "Basis_functions_1D.ipynb  model_sin_500_epochs\tTrain_model_1D.ipynb\n",
      "Create_data_1D.ipynb\t  Plot.py\n",
      "Data\t\t\t  __pycache__\n"
     ]
    }
   ],
   "source": [
    "%cd /content/mydrive/MyDrive/Semester_project\n",
    "!ls"
   ]
  },
  {
   "cell_type": "code",
   "execution_count": null,
   "id": "0IOMkGn11sUp",
   "metadata": {
    "id": "0IOMkGn11sUp"
   },
   "outputs": [],
   "source": [
    "N = 100000\n",
    "x = np.random.rand(N)"
   ]
  },
  {
   "cell_type": "markdown",
   "id": "C05xrjw618ey",
   "metadata": {
    "id": "C05xrjw618ey"
   },
   "source": [
    "## Creating cosine training data"
   ]
  },
  {
   "cell_type": "code",
   "execution_count": null,
   "id": "39858c6d-6b47-4aff-9416-6d9ac851675d",
   "metadata": {
    "id": "39858c6d-6b47-4aff-9416-6d9ac851675d"
   },
   "outputs": [],
   "source": [
    "y = np.cos(2*np.pi*x) - 1\n",
    "\n",
    "file = open('Data/cos.txt', 'w+') \n",
    "\n",
    "for i in range(N-1):\n",
    "    file.write(f'{x[i]:.14} {y[i]:.14} \\n')\n",
    "    \n",
    "file.write(f'{x[N-1]:.14} {y[N-1]:.14}')\n",
    "file.close()"
   ]
  },
  {
   "cell_type": "markdown",
   "id": "g-55uS-02BLw",
   "metadata": {
    "id": "g-55uS-02BLw"
   },
   "source": [
    "## Creating sine training data"
   ]
  },
  {
   "cell_type": "code",
   "execution_count": null,
   "id": "da055734-1baf-4b73-8072-bf928fca4583",
   "metadata": {
    "id": "da055734-1baf-4b73-8072-bf928fca4583"
   },
   "outputs": [],
   "source": [
    "y = np.sin(2*np.pi*x)\n",
    "\n",
    "file = open('Data/sin.txt', 'w+') \n",
    "\n",
    "for i in range(N-1):\n",
    "    file.write(f'{x[i]:.14} {y[i]:.14} \\n')\n",
    "    \n",
    "file.write(f'{x[N-1]:.14} {y[N-1]:.14}')\n",
    "file.close()"
   ]
  },
  {
   "cell_type": "markdown",
   "id": "BDJ5mB1r2Drs",
   "metadata": {
    "id": "BDJ5mB1r2Drs"
   },
   "source": [
    "## Creating tanh function training data"
   ]
  },
  {
   "cell_type": "code",
   "execution_count": null,
   "id": "1f7f5146-c763-4e23-88d7-ee4764877036",
   "metadata": {
    "id": "1f7f5146-c763-4e23-88d7-ee4764877036"
   },
   "outputs": [],
   "source": [
    "k = 100   # steepness parameter\n",
    "x1 = 1/2  # location of transition parameter\n",
    "\n",
    "y = 1/2*(1 + np.tanh(k*(x-x1)))\n",
    "\n",
    "file = open('Data/tanh.txt', 'w+')\n",
    "\n",
    "for i in range(N-1):\n",
    "    file.write(f'{x[i]:.14} {y[i]:.14} \\n')\n",
    "    \n",
    "file.write(f'{x[N-1]:.14} {y[N-1]:.14}')\n",
    "file.close()"
   ]
  },
  {
   "cell_type": "code",
   "execution_count": null,
   "id": "gV87auQn23U8",
   "metadata": {
    "id": "gV87auQn23U8"
   },
   "outputs": [],
   "source": []
  }
 ],
 "metadata": {
  "colab": {
   "collapsed_sections": [],
   "name": "Create_data_1D.ipynb",
   "provenance": []
  },
  "kernelspec": {
   "display_name": "Python 3 (ipykernel)",
   "language": "python",
   "name": "python3"
  },
  "language_info": {
   "codemirror_mode": {
    "name": "ipython",
    "version": 3
   },
   "file_extension": ".py",
   "mimetype": "text/x-python",
   "name": "python",
   "nbconvert_exporter": "python",
   "pygments_lexer": "ipython3",
   "version": "3.8.12"
  }
 },
 "nbformat": 4,
 "nbformat_minor": 5
}
