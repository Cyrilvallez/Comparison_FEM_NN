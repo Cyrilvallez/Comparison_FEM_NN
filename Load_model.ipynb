{
 "cells": [
  {
   "cell_type": "markdown",
   "metadata": {
    "id": "POdM4uJ1qzWZ"
   },
   "source": [
    "## Different imports and setup"
   ]
  },
  {
   "cell_type": "code",
   "execution_count": 22,
   "metadata": {
    "executionInfo": {
     "elapsed": 7,
     "status": "ok",
     "timestamp": 1633611231083,
     "user": {
      "displayName": "cyril.vallez@orange.fr",
      "photoUrl": "https://lh3.googleusercontent.com/a/default-user=s64",
      "userId": "15783316175492714013"
     },
     "user_tz": -120
    },
    "id": "FenhGgSwqe6L"
   },
   "outputs": [],
   "source": [
    "# Standard import\n",
    "import numpy as np\n",
    "import matplotlib.pyplot as plt\n",
    "%matplotlib widget"
   ]
  },
  {
   "cell_type": "code",
   "execution_count": 23,
   "metadata": {
    "executionInfo": {
     "elapsed": 1873,
     "status": "ok",
     "timestamp": 1633611259117,
     "user": {
      "displayName": "cyril.vallez@orange.fr",
      "photoUrl": "https://lh3.googleusercontent.com/a/default-user=s64",
      "userId": "15783316175492714013"
     },
     "user_tz": -120
    },
    "id": "81HANnx9qs8L"
   },
   "outputs": [],
   "source": [
    "# Machine learning libraries\n",
    "from tensorflow import keras\n",
    "import tensorflow as tf"
   ]
  },
  {
   "cell_type": "code",
   "execution_count": 24,
   "metadata": {
    "executionInfo": {
     "elapsed": 3073,
     "status": "ok",
     "timestamp": 1633611262185,
     "user": {
      "displayName": "cyril.vallez@orange.fr",
      "photoUrl": "https://lh3.googleusercontent.com/a/default-user=s64",
      "userId": "15783316175492714013"
     },
     "user_tz": -120
    },
    "id": "AycOrkloAd2n"
   },
   "outputs": [],
   "source": [
    "from Tools import Plot\n",
    "from Tools import Custom_models"
   ]
  },
  {
   "cell_type": "code",
   "execution_count": 25,
   "metadata": {
    "colab": {
     "base_uri": "https://localhost:8080/"
    },
    "executionInfo": {
     "elapsed": 8,
     "status": "ok",
     "timestamp": 1633611263667,
     "user": {
      "displayName": "cyril.vallez@orange.fr",
      "photoUrl": "https://lh3.googleusercontent.com/a/default-user=s64",
      "userId": "15783316175492714013"
     },
     "user_tz": -120
    },
    "id": "50qL7I1DquwL",
    "outputId": "40bb3c6f-6a1b-43ac-dcea-daaa8f25ef38"
   },
   "outputs": [
    {
     "name": "stdout",
     "output_type": "stream",
     "text": [
      "Not working on GPU !\n"
     ]
    }
   ],
   "source": [
    "device_name = tf.test.gpu_device_name()\n",
    "if device_name != '/device:GPU:0':\n",
    "  print('Not working on GPU !')\n",
    "else:\n",
    "  print('Found GPU at: {}'.format(device_name))"
   ]
  },
  {
   "cell_type": "markdown",
   "metadata": {
    "id": "nquZwxFBq640"
   },
   "source": [
    "## Load a model"
   ]
  },
  {
   "cell_type": "code",
   "execution_count": 26,
   "metadata": {
    "executionInfo": {
     "elapsed": 4525,
     "status": "ok",
     "timestamp": 1633611269921,
     "user": {
      "displayName": "cyril.vallez@orange.fr",
      "photoUrl": "https://lh3.googleusercontent.com/a/default-user=s64",
      "userId": "15783316175492714013"
     },
     "user_tz": -120
    },
    "id": "eYny_ilOq8nt"
   },
   "outputs": [],
   "source": [
    "model_name = 'Saved_models/tanh_200_epochs'\n",
    "model = keras.models.load_model(model_name)"
   ]
  },
  {
   "cell_type": "code",
   "execution_count": 27,
   "metadata": {
    "colab": {
     "base_uri": "https://localhost:8080/"
    },
    "executionInfo": {
     "elapsed": 8,
     "status": "ok",
     "timestamp": 1633611271318,
     "user": {
      "displayName": "cyril.vallez@orange.fr",
      "photoUrl": "https://lh3.googleusercontent.com/a/default-user=s64",
      "userId": "15783316175492714013"
     },
     "user_tz": -120
    },
    "id": "y4jc0bGyxunC",
    "outputId": "cadbee59-2741-48c5-aa6e-01246c3c39d2"
   },
   "outputs": [
    {
     "name": "stdout",
     "output_type": "stream",
     "text": [
      "Model: \"model_1d\"\n",
      "_________________________________________________________________\n",
      "Layer (type)                 Output Shape              Param #   \n",
      "=================================================================\n",
      "dense1 (Dense)               multiple                  200       \n",
      "_________________________________________________________________\n",
      "dense2 (Dense)               multiple                  9898      \n",
      "_________________________________________________________________\n",
      "dense3 (Dense)               multiple                  99        \n",
      "=================================================================\n",
      "Total params: 10,197\n",
      "Trainable params: 10,197\n",
      "Non-trainable params: 0\n",
      "_________________________________________________________________\n"
     ]
    }
   ],
   "source": [
    "model.summary()"
   ]
  },
  {
   "cell_type": "code",
   "execution_count": 28,
   "metadata": {
    "executionInfo": {
     "elapsed": 408,
     "status": "ok",
     "timestamp": 1633611288248,
     "user": {
      "displayName": "cyril.vallez@orange.fr",
      "photoUrl": "https://lh3.googleusercontent.com/a/default-user=s64",
      "userId": "15783316175492714013"
     },
     "user_tz": -120
    },
    "id": "CbtFBhWyrrEa"
   },
   "outputs": [],
   "source": [
    "weights1 = model.get_layer(name='dense1').get_weights()\n",
    "weights2 = model.get_layer(name='dense2').get_weights()\n",
    "weights3 = model.get_layer(name='dense3').get_weights()"
   ]
  },
  {
   "cell_type": "code",
   "execution_count": 39,
   "metadata": {
    "executionInfo": {
     "elapsed": 452,
     "status": "ok",
     "timestamp": 1633611290518,
     "user": {
      "displayName": "cyril.vallez@orange.fr",
      "photoUrl": "https://lh3.googleusercontent.com/a/default-user=s64",
      "userId": "15783316175492714013"
     },
     "user_tz": -120
    },
    "id": "7exWqZhtsw5y"
   },
   "outputs": [],
   "source": [
    "core1 = weights1[0].flatten()\n",
    "bias1 = weights1[1].flatten()\n",
    "core2 = weights2[0].flatten()\n",
    "bias2 = weights2[1].flatten()\n",
    "core3 = weights3[0].flatten()\n",
    "bias3 = weights3[1].flatten()"
   ]
  },
  {
   "cell_type": "code",
   "execution_count": 53,
   "metadata": {
    "id": "AWSIiULvy7LF"
   },
   "outputs": [
    {
     "data": {
      "application/vnd.jupyter.widget-view+json": {
       "model_id": "031c37966d214a2a90e8646b31a52091",
       "version_major": 2,
       "version_minor": 0
      },
      "image/png": "[encoded data removed]",
      "text/plain": [
       "Canvas(toolbar=Toolbar(toolitems=[('Home', 'Reset original view', 'home', 'home'), ('Back', 'Back to previous …"
      ]
     },
     "metadata": {},
     "output_type": "display_data"
    }
   ],
   "source": [
    "x = np.linspace(0, 1, 1000)\n",
    "y = 1/2*(1 + np.tanh(100*(x-1/2)))\n",
    "\n",
    "plt.figure()\n",
    "for i in range(100):\n",
    "    plt.plot(x, tf.nn.relu(core1[i]*x + bias1[i]))\n",
    "plt.plot(x, y, 'r-')\n",
    "plt.grid()\n",
    "plt.show()"
   ]
  },
  {
   "cell_type": "code",
   "execution_count": 42,
   "metadata": {},
   "outputs": [
    {
     "data": {
      "text/plain": [
       "array([-1.1112943e-02, -8.1125364e-02, -1.9097477e-03, -8.0368072e-03,\n",
       "       -9.9250212e-02,  1.3288029e-01,  1.7771088e-01,  5.1282787e-01,\n",
       "       -2.0692141e-01, -2.1151708e-01,  2.7774930e-01, -1.3657677e-01,\n",
       "       -2.1133241e-01, -5.8559060e-02,  3.1765443e-01,  4.8601374e-01,\n",
       "       -1.7674118e-02,  2.0770836e-01, -1.9802335e-01, -5.9953123e-02,\n",
       "       -1.4353204e-01, -1.0721387e-01, -2.8406993e-02,  3.0639142e-01,\n",
       "       -6.1899424e-04, -1.9368964e-01, -1.8437172e-01, -1.9244823e-01,\n",
       "       -1.3381979e-01, -5.2859917e-02,  2.0759566e-02,  3.1337168e-02,\n",
       "       -2.2319086e-01, -2.2897239e-01, -1.7260638e-01,  2.9143655e-01,\n",
       "       -1.8307388e-01,  4.0165864e-02, -2.0103864e-01,  3.9237667e-02,\n",
       "        2.2851951e-01, -1.1762110e-02, -2.2545572e-01, -2.2263974e-01,\n",
       "       -1.7993253e-01,  1.3669685e-03,  1.2896341e-01,  1.2033302e-02,\n",
       "       -1.9244903e-01,  2.3583721e-01, -6.7529351e-02, -1.3480359e-01,\n",
       "        9.4543487e-02,  1.6279081e-01, -3.6332935e-02,  1.8061291e-01,\n",
       "       -1.6083255e-02, -2.0021214e-01, -1.7610183e-01,  4.1886193e-01,\n",
       "       -1.2611508e-02,  1.3558023e-01, -6.4983472e-02, -2.2006851e-01,\n",
       "        3.5574909e-02, -8.0697313e-02, -1.3255908e-01,  1.8851425e-01,\n",
       "        2.1226792e-01, -1.6866764e-01, -1.4471476e-01,  2.0047520e-01,\n",
       "       -5.2175730e-02, -2.9564500e-02,  2.7350903e-01, -8.6653367e-02,\n",
       "        2.1602264e-01, -4.2603701e-02, -1.7441186e-01, -1.5542594e-01,\n",
       "       -4.2308271e-02, -1.8841332e-01,  7.4590039e+00, -5.0097048e-02,\n",
       "       -1.4912441e-02,  2.6960891e-01, -2.3247309e-01, -8.1918508e-02,\n",
       "       -1.2473222e-01, -3.4184758e-02,  3.0525896e-01, -4.5622308e-02,\n",
       "       -3.6429211e-02, -8.5690124e-03,  1.8384585e-01,  2.2246815e-01,\n",
       "        1.9226991e-01, -6.9606133e-02, -1.2433207e-01,  2.5259304e-01],\n",
       "      dtype=float32)"
      ]
     },
     "execution_count": 42,
     "metadata": {},
     "output_type": "execute_result"
    }
   ],
   "source": [
    "core1"
   ]
  },
  {
   "cell_type": "code",
   "execution_count": 43,
   "metadata": {},
   "outputs": [
    {
     "data": {
      "text/plain": [
       "array([ 0.00000000e+00,  0.00000000e+00,  0.00000000e+00,  0.00000000e+00,\n",
       "        0.00000000e+00, -1.36797428e-01, -1.78233519e-01, -5.40415168e-01,\n",
       "        0.00000000e+00,  0.00000000e+00, -2.78799266e-01,  0.00000000e+00,\n",
       "        0.00000000e+00,  0.00000000e+00, -3.50898266e-01, -5.93052328e-01,\n",
       "       -6.15984052e-02, -2.08803758e-01,  0.00000000e+00,  0.00000000e+00,\n",
       "        0.00000000e+00,  0.00000000e+00,  0.00000000e+00, -3.94360095e-01,\n",
       "        0.00000000e+00,  0.00000000e+00,  0.00000000e+00,  0.00000000e+00,\n",
       "        0.00000000e+00,  0.00000000e+00, -4.22659591e-02, -7.55104795e-02,\n",
       "        0.00000000e+00,  0.00000000e+00,  0.00000000e+00, -2.91439116e-01,\n",
       "       -1.83586553e-02, -3.70860994e-01,  0.00000000e+00, -1.14298955e-01,\n",
       "       -2.28715152e-01, -7.13241249e-02,  0.00000000e+00,  0.00000000e+00,\n",
       "        0.00000000e+00, -7.10943714e-02, -1.37323841e-01, -6.62115067e-02,\n",
       "        0.00000000e+00, -3.96960557e-01,  0.00000000e+00,  0.00000000e+00,\n",
       "       -4.82171476e-01, -1.62931308e-01,  0.00000000e+00, -3.53820682e-01,\n",
       "        0.00000000e+00,  0.00000000e+00,  0.00000000e+00, -6.81138992e-01,\n",
       "        0.00000000e+00, -1.38225317e-01,  0.00000000e+00,  0.00000000e+00,\n",
       "       -7.22722188e-02,  0.00000000e+00,  0.00000000e+00, -1.88862309e-01,\n",
       "       -2.12596402e-01,  0.00000000e+00,  0.00000000e+00, -2.04462662e-01,\n",
       "        0.00000000e+00,  0.00000000e+00, -2.73635119e-01,  0.00000000e+00,\n",
       "       -2.17151940e-01,  0.00000000e+00,  0.00000000e+00,  0.00000000e+00,\n",
       "        0.00000000e+00,  0.00000000e+00, -3.63195753e+00,  0.00000000e+00,\n",
       "        0.00000000e+00, -2.69626111e-01,  0.00000000e+00,  0.00000000e+00,\n",
       "        0.00000000e+00, -8.48351119e-05, -3.05268377e-01, -6.00512624e-02,\n",
       "        0.00000000e+00, -8.09428170e-02, -1.85336187e-01, -2.23030046e-01,\n",
       "       -2.50440121e-01, -3.20565072e-03,  0.00000000e+00, -3.68228704e-01],\n",
       "      dtype=float32)"
      ]
     },
     "execution_count": 43,
     "metadata": {},
     "output_type": "execute_result"
    }
   ],
   "source": [
    "bias1"
   ]
  },
  {
   "cell_type": "code",
   "execution_count": 51,
   "metadata": {},
   "outputs": [
    {
     "data": {
      "text/plain": [
       "array([ True,  True,  True,  True,  True, False, False, False,  True,\n",
       "        True, False,  True,  True,  True, False, False,  True, False,\n",
       "        True,  True,  True,  True,  True, False,  True,  True,  True,\n",
       "        True,  True,  True, False, False,  True,  True,  True, False,\n",
       "        True, False,  True, False, False,  True,  True,  True,  True,\n",
       "       False, False, False,  True, False,  True,  True, False, False,\n",
       "        True, False,  True,  True,  True, False,  True, False,  True,\n",
       "        True, False,  True,  True, False, False,  True,  True, False,\n",
       "        True,  True, False,  True, False,  True,  True,  True,  True,\n",
       "        True,  True,  True,  True, False,  True,  True,  True,  True,\n",
       "       False,  True,  True,  True, False, False, False,  True,  True,\n",
       "       False])"
      ]
     },
     "execution_count": 51,
     "metadata": {},
     "output_type": "execute_result"
    }
   ],
   "source": [
    "-bias1/core1 < 1"
   ]
  },
  {
   "cell_type": "code",
   "execution_count": null,
   "metadata": {},
   "outputs": [],
   "source": []
  }
 ],
 "metadata": {
  "colab": {
   "authorship_tag": "ABX9TyM9K+dGvONylA5goPoLPp/g",
   "collapsed_sections": [],
   "name": "Load_model.ipynb",
   "provenance": []
  },
  "kernelspec": {
   "display_name": "Python 3 (ipykernel)",
   "language": "python",
   "name": "python3"
  },
  "language_info": {
   "codemirror_mode": {
    "name": "ipython",
    "version": 3
   },
   "file_extension": ".py",
   "mimetype": "text/x-python",
   "name": "python",
   "nbconvert_exporter": "python",
   "pygments_lexer": "ipython3",
   "version": "3.8.12"
  }
 },
 "nbformat": 4,
 "nbformat_minor": 4
}
