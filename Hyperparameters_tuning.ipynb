{
 "cells": [
  {
   "cell_type": "code",
   "execution_count": null,
   "id": "53935124-b15e-4b31-9ba7-73035c6ee72f",
   "metadata": {},
   "outputs": [],
   "source": [
    "# Standard import\n",
    "import numpy as np\n",
    "import matplotlib.pyplot as plt\n",
    "%matplotlib widget"
   ]
  },
  {
   "cell_type": "code",
   "execution_count": null,
   "id": "d845f19e-8967-47ba-914d-ec586a67444f",
   "metadata": {},
   "outputs": [],
   "source": [
    "# Machine learning libraries\n",
    "from tensorflow import keras\n",
    "import tensorflow as tf\n",
    "from tensorflow.keras.optimizers import Adam\n",
    "from tensorflow.keras.losses import MeanSquaredError\n",
    "\n",
    "from tqdm.notebook import tqdm\n",
    "from tqdm.keras import TqdmCallback"
   ]
  },
  {
   "cell_type": "code",
   "execution_count": null,
   "id": "6f0b7c3c-ef46-41e7-b38e-c62949e2758c",
   "metadata": {},
   "outputs": [],
   "source": [
    "# Custom plots file and tensorflow models\n",
    "from Tools import Plot\n",
    "from Tools import Custom_models"
   ]
  },
  {
   "cell_type": "code",
   "execution_count": null,
   "id": "74f34df5-9607-4e75-888a-7e0eb84d358b",
   "metadata": {},
   "outputs": [],
   "source": [
    "# Set the seed for reproducibility\n",
    "seed = 6\n",
    "np.random.seed(seed)\n",
    "tf.random.set_seed(seed*2)"
   ]
  },
  {
   "cell_type": "code",
   "execution_count": null,
   "id": "6370ba61-3cfe-411d-be84-f45665889d6b",
   "metadata": {},
   "outputs": [],
   "source": [
    "# Extract data\n",
    "data = np.loadtxt('Data/tanh.txt')\n",
    "features = data[:,0]\n",
    "labels = data[:,1]"
   ]
  },
  {
   "cell_type": "code",
   "execution_count": null,
   "id": "58649a5f-927f-4bcb-9446-2b34351b0afd",
   "metadata": {},
   "outputs": [],
   "source": [
    "# Separate data into training and testing sets (keeping 10% in the test set)\n",
    "N = len(features)\n",
    "stop = round(0.9*N)\n",
    "perm = np.random.permutation(N)\n",
    "features_training = features[perm[0:stop]]\n",
    "features_testing = features[perm[stop:N]]\n",
    "labels_training = labels[perm[0:stop]]\n",
    "labels_testing = labels[perm[stop:N]]"
   ]
  },
  {
   "cell_type": "code",
   "execution_count": null,
   "id": "ec070c0b-661b-464b-a1d0-454bd9c52db3",
   "metadata": {},
   "outputs": [],
   "source": [
    "# Create the model\n",
    "rates = np.linspace(1e-4, 1e-2, 5)\n",
    "N_epochs = 200\n",
    "N_node = 100\n",
    "N_out = 1\n",
    "name = 'model_1D'\n",
    "hist = []\n",
    "\n",
    "for rate in tqdm(rates):\n",
    "    opt = Adam(learning_rate=rate)\n",
    "    model = Custom_models.Model_1D_1_layer(N_nodes=N_node, N_output=N_out, name=name)\n",
    "    model.compile(loss=MeanSquaredError(), optimizer=opt)\n",
    "    history = model.fit(features_training, labels_training, epochs=N_epochs, validation_split=0.1, verbose=0,\n",
    "                    shuffle=True, initial_epoch=0, callbacks=[TqdmCallback()])\n",
    "    hist.append(history)"
   ]
  },
  {
   "cell_type": "code",
   "execution_count": null,
   "id": "97cabdd1-430a-4142-b068-fed211e66236",
   "metadata": {},
   "outputs": [],
   "source": [
    "plt.figure()\n",
    "for i in range(5):\n",
    "    plt.semilogy(hist[i].epoch, np.array(hist[i].history['loss']), label=f'rate = {rates[i]}')\n",
    "plt.xlabel('Epoch')\n",
    "plt.ylabel('Mean squared error')\n",
    "plt.xlim([0,200])\n",
    "plt.legend()\n",
    "plt.title('Training loss')\n",
    "plt.grid()\n",
    "plt.show()"
   ]
  },
  {
   "cell_type": "code",
   "execution_count": null,
   "id": "36adc614-3bcb-4fc4-9297-a4f1f428638e",
   "metadata": {},
   "outputs": [],
   "source": [
    "plt.figure()\n",
    "for i in range(5):\n",
    "    plt.semilogy(hist[i].epoch, np.array(hist[i].history['val_loss']), label=f'rate = {rates[i]}')\n",
    "plt.xlabel('Epoch')\n",
    "plt.ylabel('Mean squared error')\n",
    "plt.xlim([0,200])\n",
    "plt.legend()\n",
    "plt.title('Validation loss')\n",
    "plt.grid()\n",
    "plt.show()"
   ]
  },
  {
   "cell_type": "code",
   "execution_count": null,
   "id": "7cea820a-49ce-4c4a-a7ab-cd5788e8830b",
   "metadata": {},
   "outputs": [],
   "source": []
  }
 ],
 "metadata": {
  "kernelspec": {
   "display_name": "Python 3 (ipykernel)",
   "language": "python",
   "name": "python3"
  },
  "language_info": {
   "codemirror_mode": {
    "name": "ipython",
    "version": 3
   },
   "file_extension": ".py",
   "mimetype": "text/x-python",
   "name": "python",
   "nbconvert_exporter": "python",
   "pygments_lexer": "ipython3",
   "version": "3.8.12"
  }
 },
 "nbformat": 4,
 "nbformat_minor": 5
}
